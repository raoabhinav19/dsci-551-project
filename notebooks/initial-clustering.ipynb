{
 "cells": [
  {
   "cell_type": "markdown",
   "metadata": {},
   "source": [
    "# Imports"
   ]
  },
  {
   "cell_type": "code",
   "execution_count": 28,
   "metadata": {},
   "outputs": [],
   "source": [
    "import pandas as pd\n",
    "import numpy as np\n",
    "import seaborn as sns\n",
    "import matplotlib.pyplot as plt\n",
    "\n",
    "from sklearn.cluster import KMeans\n",
    "from kmodes.kmodes import KModes\n",
    "from kmodes.kprototypes import KPrototypes\n",
    "%matplotlib inline"
   ]
  },
  {
   "cell_type": "markdown",
   "metadata": {},
   "source": [
    "# Data\n",
    "After reading in data, we also need to separate the `location` variable into its corresponding latitude and longitude coordinates."
   ]
  },
  {
   "cell_type": "code",
   "execution_count": 10,
   "metadata": {},
   "outputs": [
    {
     "data": {
      "text/html": [
       "<div>\n",
       "<style scoped>\n",
       "    .dataframe tbody tr th:only-of-type {\n",
       "        vertical-align: middle;\n",
       "    }\n",
       "\n",
       "    .dataframe tbody tr th {\n",
       "        vertical-align: top;\n",
       "    }\n",
       "\n",
       "    .dataframe thead th {\n",
       "        text-align: right;\n",
       "    }\n",
       "</style>\n",
       "<table border=\"1\" class=\"dataframe\">\n",
       "  <thead>\n",
       "    <tr style=\"text-align: right;\">\n",
       "      <th></th>\n",
       "      <th>Area ID</th>\n",
       "      <th>Premise Description</th>\n",
       "      <th>Location</th>\n",
       "      <th>month</th>\n",
       "      <th>day</th>\n",
       "      <th>year</th>\n",
       "      <th>hour</th>\n",
       "      <th>day_category</th>\n",
       "    </tr>\n",
       "  </thead>\n",
       "  <tbody>\n",
       "    <tr>\n",
       "      <th>100100007</th>\n",
       "      <td>1</td>\n",
       "      <td>STREET</td>\n",
       "      <td>(34.0395, -118.2656)</td>\n",
       "      <td>11</td>\n",
       "      <td>8</td>\n",
       "      <td>2010</td>\n",
       "      <td>22</td>\n",
       "      <td>night</td>\n",
       "    </tr>\n",
       "    <tr>\n",
       "      <th>100100767</th>\n",
       "      <td>1</td>\n",
       "      <td>STREET</td>\n",
       "      <td>(34.0695, -118.2324)</td>\n",
       "      <td>3</td>\n",
       "      <td>31</td>\n",
       "      <td>2010</td>\n",
       "      <td>4</td>\n",
       "      <td>night</td>\n",
       "    </tr>\n",
       "    <tr>\n",
       "      <th>100100831</th>\n",
       "      <td>1</td>\n",
       "      <td>STREET</td>\n",
       "      <td>(34.0424, -118.2718)</td>\n",
       "      <td>4</td>\n",
       "      <td>18</td>\n",
       "      <td>2010</td>\n",
       "      <td>1</td>\n",
       "      <td>night</td>\n",
       "    </tr>\n",
       "    <tr>\n",
       "      <th>100101004</th>\n",
       "      <td>1</td>\n",
       "      <td>STREET</td>\n",
       "      <td>(34.0344, -118.2714)</td>\n",
       "      <td>6</td>\n",
       "      <td>5</td>\n",
       "      <td>2010</td>\n",
       "      <td>20</td>\n",
       "      <td>night</td>\n",
       "    </tr>\n",
       "    <tr>\n",
       "      <th>100101322</th>\n",
       "      <td>1</td>\n",
       "      <td>STREET</td>\n",
       "      <td>(34.0637, -118.2361)</td>\n",
       "      <td>8</td>\n",
       "      <td>7</td>\n",
       "      <td>2010</td>\n",
       "      <td>16</td>\n",
       "      <td>evening</td>\n",
       "    </tr>\n",
       "  </tbody>\n",
       "</table>\n",
       "</div>"
      ],
      "text/plain": [
       "           Area ID Premise Description              Location  month  day  \\\n",
       "100100007        1              STREET  (34.0395, -118.2656)     11    8   \n",
       "100100767        1              STREET  (34.0695, -118.2324)      3   31   \n",
       "100100831        1              STREET  (34.0424, -118.2718)      4   18   \n",
       "100101004        1              STREET  (34.0344, -118.2714)      6    5   \n",
       "100101322        1              STREET  (34.0637, -118.2361)      8    7   \n",
       "\n",
       "           year  hour day_category  \n",
       "100100007  2010    22        night  \n",
       "100100767  2010     4        night  \n",
       "100100831  2010     1        night  \n",
       "100101004  2010    20        night  \n",
       "100101322  2010    16      evening  "
      ]
     },
     "execution_count": 10,
     "metadata": {},
     "output_type": "execute_result"
    }
   ],
   "source": [
    "# Read in data\n",
    "data = pd.read_json('../data_json/traffic_data.zip', orient='index', convert_axes=False)\n",
    "# orient --> indicates expected json string format, we're oriented on the indicies\n",
    "# convert_axis --> to stop from labeling index (accident id) as datetime\n",
    "\n",
    "data.head()"
   ]
  },
  {
   "cell_type": "code",
   "execution_count": 11,
   "metadata": {},
   "outputs": [],
   "source": [
    "def get_latitude(loc):\n",
    "    lat, _, _ = loc.partition(',')\n",
    "    lat = lat.replace('(', '')\n",
    "\n",
    "    return float(lat)\n",
    "\n",
    "def get_longitude(loc):\n",
    "    _, _, long = loc.partition(',')\n",
    "    long = long.replace(')', '')\n",
    "\n",
    "    return float(long)"
   ]
  },
  {
   "cell_type": "code",
   "execution_count": 12,
   "metadata": {},
   "outputs": [
    {
     "data": {
      "text/html": [
       "<div>\n",
       "<style scoped>\n",
       "    .dataframe tbody tr th:only-of-type {\n",
       "        vertical-align: middle;\n",
       "    }\n",
       "\n",
       "    .dataframe tbody tr th {\n",
       "        vertical-align: top;\n",
       "    }\n",
       "\n",
       "    .dataframe thead th {\n",
       "        text-align: right;\n",
       "    }\n",
       "</style>\n",
       "<table border=\"1\" class=\"dataframe\">\n",
       "  <thead>\n",
       "    <tr style=\"text-align: right;\">\n",
       "      <th></th>\n",
       "      <th>lat</th>\n",
       "      <th>long</th>\n",
       "    </tr>\n",
       "  </thead>\n",
       "  <tbody>\n",
       "    <tr>\n",
       "      <th>100100007</th>\n",
       "      <td>34.0395</td>\n",
       "      <td>-118.2656</td>\n",
       "    </tr>\n",
       "    <tr>\n",
       "      <th>100100767</th>\n",
       "      <td>34.0695</td>\n",
       "      <td>-118.2324</td>\n",
       "    </tr>\n",
       "    <tr>\n",
       "      <th>100100831</th>\n",
       "      <td>34.0424</td>\n",
       "      <td>-118.2718</td>\n",
       "    </tr>\n",
       "    <tr>\n",
       "      <th>100101004</th>\n",
       "      <td>34.0344</td>\n",
       "      <td>-118.2714</td>\n",
       "    </tr>\n",
       "    <tr>\n",
       "      <th>100101322</th>\n",
       "      <td>34.0637</td>\n",
       "      <td>-118.2361</td>\n",
       "    </tr>\n",
       "  </tbody>\n",
       "</table>\n",
       "</div>"
      ],
      "text/plain": [
       "               lat      long\n",
       "100100007  34.0395 -118.2656\n",
       "100100767  34.0695 -118.2324\n",
       "100100831  34.0424 -118.2718\n",
       "100101004  34.0344 -118.2714\n",
       "100101322  34.0637 -118.2361"
      ]
     },
     "execution_count": 12,
     "metadata": {},
     "output_type": "execute_result"
    }
   ],
   "source": [
    "data['lat'] = data.Location.apply(get_latitude)\n",
    "data['long'] = data.Location.apply(get_longitude)\n",
    "data.drop(columns='Location', inplace=True)\n",
    "data[['lat', 'long']].head()"
   ]
  },
  {
   "cell_type": "code",
   "execution_count": 16,
   "metadata": {},
   "outputs": [],
   "source": [
    "# Filter out coordinates that fall outside the rough range of Los Angeles\n",
    "data = data[(data['lat'] <= 36) & (data['long'] <= -110)] "
   ]
  },
  {
   "cell_type": "markdown",
   "metadata": {},
   "source": [
    "# 1st Clustering Approach - Kmodes\n",
    "Because the majority of our data is categorical, we have chosen to explore the kmodes clustering implementation which uses a different dissimlarity measure and utilizes the most frequent category (mode) instead of the mean."
   ]
  },
  {
   "cell_type": "markdown",
   "metadata": {},
   "source": [
    "## Binning Location coordinates\n",
    "Since our approach is kmodes we need to convert all of our variables into categorical. Our only true numeric variable is latitude and longitude, so we are interested in binning these locations to perform kmodes."
   ]
  },
  {
   "cell_type": "code",
   "execution_count": 17,
   "metadata": {},
   "outputs": [
    {
     "data": {
      "text/plain": [
       "<AxesSubplot:xlabel='lat', ylabel='Count'>"
      ]
     },
     "execution_count": 17,
     "metadata": {},
     "output_type": "execute_result"
    },
    {
     "data": {
      "image/png": "[encoded data removed]",
      "text/plain": [
       "<Figure size 432x288 with 1 Axes>"
      ]
     },
     "metadata": {
      "needs_background": "light"
     },
     "output_type": "display_data"
    }
   ],
   "source": [
    "sns.histplot(data=data, x='lat', bins=10)"
   ]
  },
  {
   "cell_type": "markdown",
   "metadata": {},
   "source": [
    "# 2nd Clustering Approach --> K-Prototypes (mix between K-means and K-modes)"
   ]
  },
  {
   "cell_type": "code",
   "execution_count": 18,
   "metadata": {},
   "outputs": [
    {
     "data": {
      "text/html": [
       "<div>\n",
       "<style scoped>\n",
       "    .dataframe tbody tr th:only-of-type {\n",
       "        vertical-align: middle;\n",
       "    }\n",
       "\n",
       "    .dataframe tbody tr th {\n",
       "        vertical-align: top;\n",
       "    }\n",
       "\n",
       "    .dataframe thead th {\n",
       "        text-align: right;\n",
       "    }\n",
       "</style>\n",
       "<table border=\"1\" class=\"dataframe\">\n",
       "  <thead>\n",
       "    <tr style=\"text-align: right;\">\n",
       "      <th></th>\n",
       "      <th>Area ID</th>\n",
       "      <th>Premise Description</th>\n",
       "      <th>month</th>\n",
       "      <th>day</th>\n",
       "      <th>year</th>\n",
       "      <th>hour</th>\n",
       "      <th>day_category</th>\n",
       "      <th>lat</th>\n",
       "      <th>long</th>\n",
       "    </tr>\n",
       "  </thead>\n",
       "  <tbody>\n",
       "    <tr>\n",
       "      <th>100100007</th>\n",
       "      <td>1</td>\n",
       "      <td>STREET</td>\n",
       "      <td>11</td>\n",
       "      <td>8</td>\n",
       "      <td>2010</td>\n",
       "      <td>22</td>\n",
       "      <td>night</td>\n",
       "      <td>34.0395</td>\n",
       "      <td>-118.2656</td>\n",
       "    </tr>\n",
       "    <tr>\n",
       "      <th>100100767</th>\n",
       "      <td>1</td>\n",
       "      <td>STREET</td>\n",
       "      <td>3</td>\n",
       "      <td>31</td>\n",
       "      <td>2010</td>\n",
       "      <td>4</td>\n",
       "      <td>night</td>\n",
       "      <td>34.0695</td>\n",
       "      <td>-118.2324</td>\n",
       "    </tr>\n",
       "    <tr>\n",
       "      <th>100100831</th>\n",
       "      <td>1</td>\n",
       "      <td>STREET</td>\n",
       "      <td>4</td>\n",
       "      <td>18</td>\n",
       "      <td>2010</td>\n",
       "      <td>1</td>\n",
       "      <td>night</td>\n",
       "      <td>34.0424</td>\n",
       "      <td>-118.2718</td>\n",
       "    </tr>\n",
       "    <tr>\n",
       "      <th>100101004</th>\n",
       "      <td>1</td>\n",
       "      <td>STREET</td>\n",
       "      <td>6</td>\n",
       "      <td>5</td>\n",
       "      <td>2010</td>\n",
       "      <td>20</td>\n",
       "      <td>night</td>\n",
       "      <td>34.0344</td>\n",
       "      <td>-118.2714</td>\n",
       "    </tr>\n",
       "    <tr>\n",
       "      <th>100101322</th>\n",
       "      <td>1</td>\n",
       "      <td>STREET</td>\n",
       "      <td>8</td>\n",
       "      <td>7</td>\n",
       "      <td>2010</td>\n",
       "      <td>16</td>\n",
       "      <td>evening</td>\n",
       "      <td>34.0637</td>\n",
       "      <td>-118.2361</td>\n",
       "    </tr>\n",
       "  </tbody>\n",
       "</table>\n",
       "</div>"
      ],
      "text/plain": [
       "           Area ID Premise Description  month  day  year  hour day_category  \\\n",
       "100100007        1              STREET     11    8  2010    22        night   \n",
       "100100767        1              STREET      3   31  2010     4        night   \n",
       "100100831        1              STREET      4   18  2010     1        night   \n",
       "100101004        1              STREET      6    5  2010    20        night   \n",
       "100101322        1              STREET      8    7  2010    16      evening   \n",
       "\n",
       "               lat      long  \n",
       "100100007  34.0395 -118.2656  \n",
       "100100767  34.0695 -118.2324  \n",
       "100100831  34.0424 -118.2718  \n",
       "100101004  34.0344 -118.2714  \n",
       "100101322  34.0637 -118.2361  "
      ]
     },
     "execution_count": 18,
     "metadata": {},
     "output_type": "execute_result"
    }
   ],
   "source": [
    "data.head()"
   ]
  },
  {
   "cell_type": "code",
   "execution_count": 24,
   "metadata": {},
   "outputs": [
    {
     "ename": "KeyboardInterrupt",
     "evalue": "",
     "output_type": "error",
     "traceback": [
      "\u001b[0;31m---------------------------------------------------------------------------\u001b[0m",
      "\u001b[0;31mKeyboardInterrupt\u001b[0m                         Traceback (most recent call last)",
      "\u001b[0;32m<ipython-input-24-44ac8acb0935>\u001b[0m in \u001b[0;36m<module>\u001b[0;34m\u001b[0m\n\u001b[1;32m      1\u001b[0m \u001b[0mkproto\u001b[0m \u001b[0;34m=\u001b[0m \u001b[0mKPrototypes\u001b[0m\u001b[0;34m(\u001b[0m\u001b[0mn_clusters\u001b[0m\u001b[0;34m=\u001b[0m\u001b[0;36m3\u001b[0m\u001b[0;34m,\u001b[0m \u001b[0minit\u001b[0m\u001b[0;34m=\u001b[0m\u001b[0;34m'Cao'\u001b[0m\u001b[0;34m)\u001b[0m\u001b[0;34m\u001b[0m\u001b[0;34m\u001b[0m\u001b[0m\n\u001b[1;32m      2\u001b[0m \u001b[0;34m\u001b[0m\u001b[0m\n\u001b[0;32m----> 3\u001b[0;31m \u001b[0mclusters\u001b[0m \u001b[0;34m=\u001b[0m \u001b[0mkproto\u001b[0m\u001b[0;34m.\u001b[0m\u001b[0mfit_predict\u001b[0m\u001b[0;34m(\u001b[0m\u001b[0mdata\u001b[0m\u001b[0;34m,\u001b[0m \u001b[0mcategorical\u001b[0m\u001b[0;34m=\u001b[0m\u001b[0mlist\u001b[0m\u001b[0;34m(\u001b[0m\u001b[0mrange\u001b[0m\u001b[0;34m(\u001b[0m\u001b[0;36m0\u001b[0m\u001b[0;34m,\u001b[0m \u001b[0;36m7\u001b[0m\u001b[0;34m)\u001b[0m\u001b[0;34m)\u001b[0m\u001b[0;34m)\u001b[0m\u001b[0;34m\u001b[0m\u001b[0;34m\u001b[0m\u001b[0m\n\u001b[0m\u001b[1;32m      4\u001b[0m \u001b[0mlabels\u001b[0m \u001b[0;34m=\u001b[0m \u001b[0mpd\u001b[0m\u001b[0;34m.\u001b[0m\u001b[0mDataFrame\u001b[0m\u001b[0;34m(\u001b[0m\u001b[0mclusters\u001b[0m\u001b[0;34m)\u001b[0m\u001b[0;34m\u001b[0m\u001b[0;34m\u001b[0m\u001b[0m\n\u001b[1;32m      5\u001b[0m \u001b[0mlabeled_data\u001b[0m \u001b[0;34m=\u001b[0m \u001b[0mpd\u001b[0m\u001b[0;34m.\u001b[0m\u001b[0mconcat\u001b[0m\u001b[0;34m(\u001b[0m\u001b[0;34m(\u001b[0m\u001b[0mdata\u001b[0m\u001b[0;34m,\u001b[0m \u001b[0mlabels\u001b[0m\u001b[0;34m)\u001b[0m\u001b[0;34m,\u001b[0m \u001b[0maxis\u001b[0m\u001b[0;34m=\u001b[0m\u001b[0;36m1\u001b[0m\u001b[0;34m)\u001b[0m\u001b[0;34m\u001b[0m\u001b[0;34m\u001b[0m\u001b[0m\n",
      "\u001b[0;32m~/opt/anaconda3/lib/python3.8/site-packages/kmodes/kmodes.py\u001b[0m in \u001b[0;36mfit_predict\u001b[0;34m(self, X, y, **kwargs)\u001b[0m\n\u001b[1;32m    144\u001b[0m         \u001b[0mpredict\u001b[0m\u001b[0;34m(\u001b[0m\u001b[0mX\u001b[0m\u001b[0;34m)\u001b[0m\u001b[0;34m.\u001b[0m\u001b[0;34m\u001b[0m\u001b[0;34m\u001b[0m\u001b[0m\n\u001b[1;32m    145\u001b[0m         \"\"\"\n\u001b[0;32m--> 146\u001b[0;31m         \u001b[0;32mreturn\u001b[0m \u001b[0mself\u001b[0m\u001b[0;34m.\u001b[0m\u001b[0mfit\u001b[0m\u001b[0;34m(\u001b[0m\u001b[0mX\u001b[0m\u001b[0;34m,\u001b[0m \u001b[0;34m**\u001b[0m\u001b[0mkwargs\u001b[0m\u001b[0;34m)\u001b[0m\u001b[0;34m.\u001b[0m\u001b[0mpredict\u001b[0m\u001b[0;34m(\u001b[0m\u001b[0mX\u001b[0m\u001b[0;34m,\u001b[0m \u001b[0;34m**\u001b[0m\u001b[0mkwargs\u001b[0m\u001b[0;34m)\u001b[0m\u001b[0;34m\u001b[0m\u001b[0;34m\u001b[0m\u001b[0m\n\u001b[0m\u001b[1;32m    147\u001b[0m \u001b[0;34m\u001b[0m\u001b[0m\n\u001b[1;32m    148\u001b[0m     \u001b[0;32mdef\u001b[0m \u001b[0mpredict\u001b[0m\u001b[0;34m(\u001b[0m\u001b[0mself\u001b[0m\u001b[0;34m,\u001b[0m \u001b[0mX\u001b[0m\u001b[0;34m,\u001b[0m \u001b[0;34m**\u001b[0m\u001b[0mkwargs\u001b[0m\u001b[0;34m)\u001b[0m\u001b[0;34m:\u001b[0m\u001b[0;34m\u001b[0m\u001b[0;34m\u001b[0m\u001b[0m\n",
      "\u001b[0;32m~/opt/anaconda3/lib/python3.8/site-packages/kmodes/kprototypes.py\u001b[0m in \u001b[0;36mfit\u001b[0;34m(self, X, y, categorical)\u001b[0m\n\u001b[1;32m    151\u001b[0m         \u001b[0;31m# the data. The function below returns its value.\u001b[0m\u001b[0;34m\u001b[0m\u001b[0;34m\u001b[0m\u001b[0;34m\u001b[0m\u001b[0m\n\u001b[1;32m    152\u001b[0m         \u001b[0mself\u001b[0m\u001b[0;34m.\u001b[0m\u001b[0m_enc_cluster_centroids\u001b[0m\u001b[0;34m,\u001b[0m \u001b[0mself\u001b[0m\u001b[0;34m.\u001b[0m\u001b[0m_enc_map\u001b[0m\u001b[0;34m,\u001b[0m \u001b[0mself\u001b[0m\u001b[0;34m.\u001b[0m\u001b[0mlabels_\u001b[0m\u001b[0;34m,\u001b[0m \u001b[0mself\u001b[0m\u001b[0;34m.\u001b[0m\u001b[0mcost_\u001b[0m\u001b[0;34m,\u001b[0m\u001b[0;31m \u001b[0m\u001b[0;31m\\\u001b[0m\u001b[0;34m\u001b[0m\u001b[0;34m\u001b[0m\u001b[0m\n\u001b[0;32m--> 153\u001b[0;31m         self.n_iter_, self.epoch_costs_, self.gamma = k_prototypes(\n\u001b[0m\u001b[1;32m    154\u001b[0m             \u001b[0mX\u001b[0m\u001b[0;34m,\u001b[0m\u001b[0;34m\u001b[0m\u001b[0;34m\u001b[0m\u001b[0m\n\u001b[1;32m    155\u001b[0m             \u001b[0mcategorical\u001b[0m\u001b[0;34m,\u001b[0m\u001b[0;34m\u001b[0m\u001b[0;34m\u001b[0m\u001b[0m\n",
      "\u001b[0;32m~/opt/anaconda3/lib/python3.8/site-packages/kmodes/kprototypes.py\u001b[0m in \u001b[0;36mk_prototypes\u001b[0;34m(X, categorical, n_clusters, max_iter, num_dissim, cat_dissim, gamma, init, n_init, verbose, random_state, n_jobs)\u001b[0m\n\u001b[1;32m    285\u001b[0m     \u001b[0;32mif\u001b[0m \u001b[0mn_jobs\u001b[0m \u001b[0;34m==\u001b[0m \u001b[0;36m1\u001b[0m\u001b[0;34m:\u001b[0m\u001b[0;34m\u001b[0m\u001b[0;34m\u001b[0m\u001b[0m\n\u001b[1;32m    286\u001b[0m         \u001b[0;32mfor\u001b[0m \u001b[0minit_no\u001b[0m \u001b[0;32min\u001b[0m \u001b[0mrange\u001b[0m\u001b[0;34m(\u001b[0m\u001b[0mn_init\u001b[0m\u001b[0;34m)\u001b[0m\u001b[0;34m:\u001b[0m\u001b[0;34m\u001b[0m\u001b[0;34m\u001b[0m\u001b[0m\n\u001b[0;32m--> 287\u001b[0;31m             results.append(_k_prototypes_single(Xnum, Xcat, nnumattrs, ncatattrs,\n\u001b[0m\u001b[1;32m    288\u001b[0m                                                 \u001b[0mn_clusters\u001b[0m\u001b[0;34m,\u001b[0m \u001b[0mn_points\u001b[0m\u001b[0;34m,\u001b[0m \u001b[0mmax_iter\u001b[0m\u001b[0;34m,\u001b[0m\u001b[0;34m\u001b[0m\u001b[0;34m\u001b[0m\u001b[0m\n\u001b[1;32m    289\u001b[0m                                                 \u001b[0mnum_dissim\u001b[0m\u001b[0;34m,\u001b[0m \u001b[0mcat_dissim\u001b[0m\u001b[0;34m,\u001b[0m \u001b[0mgamma\u001b[0m\u001b[0;34m,\u001b[0m\u001b[0;34m\u001b[0m\u001b[0;34m\u001b[0m\u001b[0m\n",
      "\u001b[0;32m~/opt/anaconda3/lib/python3.8/site-packages/kmodes/kprototypes.py\u001b[0m in \u001b[0;36m_k_prototypes_single\u001b[0;34m(Xnum, Xcat, nnumattrs, ncatattrs, n_clusters, n_points, max_iter, num_dissim, cat_dissim, gamma, init, init_no, verbose, random_state)\u001b[0m\n\u001b[1;32m    425\u001b[0m \u001b[0;34m\u001b[0m\u001b[0m\n\u001b[1;32m    426\u001b[0m         \u001b[0;31m# All points seen in this iteration\u001b[0m\u001b[0;34m\u001b[0m\u001b[0;34m\u001b[0m\u001b[0;34m\u001b[0m\u001b[0m\n\u001b[0;32m--> 427\u001b[0;31m         labels, ncost = labels_cost(Xnum, Xcat, centroids,\n\u001b[0m\u001b[1;32m    428\u001b[0m                                     num_dissim, cat_dissim, gamma, membship)\n\u001b[1;32m    429\u001b[0m         \u001b[0mconverged\u001b[0m \u001b[0;34m=\u001b[0m \u001b[0;34m(\u001b[0m\u001b[0mmoves\u001b[0m \u001b[0;34m==\u001b[0m \u001b[0;36m0\u001b[0m\u001b[0;34m)\u001b[0m \u001b[0;32mor\u001b[0m \u001b[0;34m(\u001b[0m\u001b[0mncost\u001b[0m \u001b[0;34m>=\u001b[0m \u001b[0mcost\u001b[0m\u001b[0;34m)\u001b[0m\u001b[0;34m\u001b[0m\u001b[0;34m\u001b[0m\u001b[0m\n",
      "\u001b[0;32m~/opt/anaconda3/lib/python3.8/site-packages/kmodes/kprototypes.py\u001b[0m in \u001b[0;36mlabels_cost\u001b[0;34m(Xnum, Xcat, centroids, num_dissim, cat_dissim, gamma, membship)\u001b[0m\n\u001b[1;32m    222\u001b[0m         \u001b[0;31m# Numerical cost = sum of Euclidean distances\u001b[0m\u001b[0;34m\u001b[0m\u001b[0;34m\u001b[0m\u001b[0;34m\u001b[0m\u001b[0m\n\u001b[1;32m    223\u001b[0m         \u001b[0mnum_costs\u001b[0m \u001b[0;34m=\u001b[0m \u001b[0mnum_dissim\u001b[0m\u001b[0;34m(\u001b[0m\u001b[0mcentroids\u001b[0m\u001b[0;34m[\u001b[0m\u001b[0;36m0\u001b[0m\u001b[0;34m]\u001b[0m\u001b[0;34m,\u001b[0m \u001b[0mXnum\u001b[0m\u001b[0;34m[\u001b[0m\u001b[0mipoint\u001b[0m\u001b[0;34m]\u001b[0m\u001b[0;34m)\u001b[0m\u001b[0;34m\u001b[0m\u001b[0;34m\u001b[0m\u001b[0m\n\u001b[0;32m--> 224\u001b[0;31m         \u001b[0mcat_costs\u001b[0m \u001b[0;34m=\u001b[0m \u001b[0mcat_dissim\u001b[0m\u001b[0;34m(\u001b[0m\u001b[0mcentroids\u001b[0m\u001b[0;34m[\u001b[0m\u001b[0;36m1\u001b[0m\u001b[0;34m]\u001b[0m\u001b[0;34m,\u001b[0m \u001b[0mXcat\u001b[0m\u001b[0;34m[\u001b[0m\u001b[0mipoint\u001b[0m\u001b[0;34m]\u001b[0m\u001b[0;34m,\u001b[0m \u001b[0mX\u001b[0m\u001b[0;34m=\u001b[0m\u001b[0mXcat\u001b[0m\u001b[0;34m,\u001b[0m \u001b[0mmembship\u001b[0m\u001b[0;34m=\u001b[0m\u001b[0mmembship\u001b[0m\u001b[0;34m)\u001b[0m\u001b[0;34m\u001b[0m\u001b[0;34m\u001b[0m\u001b[0m\n\u001b[0m\u001b[1;32m    225\u001b[0m         \u001b[0;31m# Gamma relates the categorical cost to the numerical cost.\u001b[0m\u001b[0;34m\u001b[0m\u001b[0;34m\u001b[0m\u001b[0;34m\u001b[0m\u001b[0m\n\u001b[1;32m    226\u001b[0m         \u001b[0mtot_costs\u001b[0m \u001b[0;34m=\u001b[0m \u001b[0mnum_costs\u001b[0m \u001b[0;34m+\u001b[0m \u001b[0mgamma\u001b[0m \u001b[0;34m*\u001b[0m \u001b[0mcat_costs\u001b[0m\u001b[0;34m\u001b[0m\u001b[0;34m\u001b[0m\u001b[0m\n",
      "\u001b[0;32m~/opt/anaconda3/lib/python3.8/site-packages/kmodes/util/dissim.py\u001b[0m in \u001b[0;36mmatching_dissim\u001b[0;34m(a, b, **_)\u001b[0m\n\u001b[1;32m      8\u001b[0m \u001b[0;32mdef\u001b[0m \u001b[0mmatching_dissim\u001b[0m\u001b[0;34m(\u001b[0m\u001b[0ma\u001b[0m\u001b[0;34m,\u001b[0m \u001b[0mb\u001b[0m\u001b[0;34m,\u001b[0m \u001b[0;34m**\u001b[0m\u001b[0m_\u001b[0m\u001b[0;34m)\u001b[0m\u001b[0;34m:\u001b[0m\u001b[0;34m\u001b[0m\u001b[0;34m\u001b[0m\u001b[0m\n\u001b[1;32m      9\u001b[0m     \u001b[0;34m\"\"\"Simple matching dissimilarity function\"\"\"\u001b[0m\u001b[0;34m\u001b[0m\u001b[0;34m\u001b[0m\u001b[0m\n\u001b[0;32m---> 10\u001b[0;31m     \u001b[0;32mreturn\u001b[0m \u001b[0mnp\u001b[0m\u001b[0;34m.\u001b[0m\u001b[0msum\u001b[0m\u001b[0;34m(\u001b[0m\u001b[0ma\u001b[0m \u001b[0;34m!=\u001b[0m \u001b[0mb\u001b[0m\u001b[0;34m,\u001b[0m \u001b[0maxis\u001b[0m\u001b[0;34m=\u001b[0m\u001b[0;36m1\u001b[0m\u001b[0;34m)\u001b[0m\u001b[0;34m\u001b[0m\u001b[0;34m\u001b[0m\u001b[0m\n\u001b[0m\u001b[1;32m     11\u001b[0m \u001b[0;34m\u001b[0m\u001b[0m\n\u001b[1;32m     12\u001b[0m \u001b[0;34m\u001b[0m\u001b[0m\n",
      "\u001b[0;31mKeyboardInterrupt\u001b[0m: "
     ]
    }
   ],
   "source": [
    "# Was having issues running --> had to kill kernel after 38 minutes of runtime\n",
    "kproto = KPrototypes(n_clusters=3, init='Cao')\n",
    "\n",
    "clusters = kproto.fit_predict(data, categorical=list(range(0, 7)))\n",
    "labels = pd.DataFrame(clusters)\n",
    "labeled_data = pd.concat((data, labels), axis=1)\n",
    "labeled_data = labeled_data.rename({0: 'labels'}, axis=1)"
   ]
  },
  {
   "cell_type": "code",
   "execution_count": null,
   "metadata": {},
   "outputs": [],
   "source": [
    "labeled_data"
   ]
  },
  {
   "cell_type": "markdown",
   "metadata": {},
   "source": [
    "# 3rd Clustering Approach --> Kmeans with One Hot Encoding"
   ]
  },
  {
   "cell_type": "code",
   "execution_count": 25,
   "metadata": {},
   "outputs": [
    {
     "data": {
      "text/html": [
       "<div>\n",
       "<style scoped>\n",
       "    .dataframe tbody tr th:only-of-type {\n",
       "        vertical-align: middle;\n",
       "    }\n",
       "\n",
       "    .dataframe tbody tr th {\n",
       "        vertical-align: top;\n",
       "    }\n",
       "\n",
       "    .dataframe thead th {\n",
       "        text-align: right;\n",
       "    }\n",
       "</style>\n",
       "<table border=\"1\" class=\"dataframe\">\n",
       "  <thead>\n",
       "    <tr style=\"text-align: right;\">\n",
       "      <th></th>\n",
       "      <th>lat</th>\n",
       "      <th>long</th>\n",
       "      <th>Area ID_1</th>\n",
       "      <th>Area ID_2</th>\n",
       "      <th>Area ID_3</th>\n",
       "      <th>Area ID_4</th>\n",
       "      <th>Area ID_5</th>\n",
       "      <th>Area ID_6</th>\n",
       "      <th>Area ID_7</th>\n",
       "      <th>Area ID_8</th>\n",
       "      <th>...</th>\n",
       "      <th>hour_18</th>\n",
       "      <th>hour_19</th>\n",
       "      <th>hour_20</th>\n",
       "      <th>hour_21</th>\n",
       "      <th>hour_22</th>\n",
       "      <th>hour_23</th>\n",
       "      <th>day_category_afternoon</th>\n",
       "      <th>day_category_evening</th>\n",
       "      <th>day_category_morning</th>\n",
       "      <th>day_category_night</th>\n",
       "    </tr>\n",
       "  </thead>\n",
       "  <tbody>\n",
       "    <tr>\n",
       "      <th>100100007</th>\n",
       "      <td>34.0395</td>\n",
       "      <td>-118.2656</td>\n",
       "      <td>1</td>\n",
       "      <td>0</td>\n",
       "      <td>0</td>\n",
       "      <td>0</td>\n",
       "      <td>0</td>\n",
       "      <td>0</td>\n",
       "      <td>0</td>\n",
       "      <td>0</td>\n",
       "      <td>...</td>\n",
       "      <td>0</td>\n",
       "      <td>0</td>\n",
       "      <td>0</td>\n",
       "      <td>0</td>\n",
       "      <td>1</td>\n",
       "      <td>0</td>\n",
       "      <td>0</td>\n",
       "      <td>0</td>\n",
       "      <td>0</td>\n",
       "      <td>1</td>\n",
       "    </tr>\n",
       "    <tr>\n",
       "      <th>100100767</th>\n",
       "      <td>34.0695</td>\n",
       "      <td>-118.2324</td>\n",
       "      <td>1</td>\n",
       "      <td>0</td>\n",
       "      <td>0</td>\n",
       "      <td>0</td>\n",
       "      <td>0</td>\n",
       "      <td>0</td>\n",
       "      <td>0</td>\n",
       "      <td>0</td>\n",
       "      <td>...</td>\n",
       "      <td>0</td>\n",
       "      <td>0</td>\n",
       "      <td>0</td>\n",
       "      <td>0</td>\n",
       "      <td>0</td>\n",
       "      <td>0</td>\n",
       "      <td>0</td>\n",
       "      <td>0</td>\n",
       "      <td>0</td>\n",
       "      <td>1</td>\n",
       "    </tr>\n",
       "    <tr>\n",
       "      <th>100100831</th>\n",
       "      <td>34.0424</td>\n",
       "      <td>-118.2718</td>\n",
       "      <td>1</td>\n",
       "      <td>0</td>\n",
       "      <td>0</td>\n",
       "      <td>0</td>\n",
       "      <td>0</td>\n",
       "      <td>0</td>\n",
       "      <td>0</td>\n",
       "      <td>0</td>\n",
       "      <td>...</td>\n",
       "      <td>0</td>\n",
       "      <td>0</td>\n",
       "      <td>0</td>\n",
       "      <td>0</td>\n",
       "      <td>0</td>\n",
       "      <td>0</td>\n",
       "      <td>0</td>\n",
       "      <td>0</td>\n",
       "      <td>0</td>\n",
       "      <td>1</td>\n",
       "    </tr>\n",
       "    <tr>\n",
       "      <th>100101004</th>\n",
       "      <td>34.0344</td>\n",
       "      <td>-118.2714</td>\n",
       "      <td>1</td>\n",
       "      <td>0</td>\n",
       "      <td>0</td>\n",
       "      <td>0</td>\n",
       "      <td>0</td>\n",
       "      <td>0</td>\n",
       "      <td>0</td>\n",
       "      <td>0</td>\n",
       "      <td>...</td>\n",
       "      <td>0</td>\n",
       "      <td>0</td>\n",
       "      <td>1</td>\n",
       "      <td>0</td>\n",
       "      <td>0</td>\n",
       "      <td>0</td>\n",
       "      <td>0</td>\n",
       "      <td>0</td>\n",
       "      <td>0</td>\n",
       "      <td>1</td>\n",
       "    </tr>\n",
       "    <tr>\n",
       "      <th>100101322</th>\n",
       "      <td>34.0637</td>\n",
       "      <td>-118.2361</td>\n",
       "      <td>1</td>\n",
       "      <td>0</td>\n",
       "      <td>0</td>\n",
       "      <td>0</td>\n",
       "      <td>0</td>\n",
       "      <td>0</td>\n",
       "      <td>0</td>\n",
       "      <td>0</td>\n",
       "      <td>...</td>\n",
       "      <td>0</td>\n",
       "      <td>0</td>\n",
       "      <td>0</td>\n",
       "      <td>0</td>\n",
       "      <td>0</td>\n",
       "      <td>0</td>\n",
       "      <td>0</td>\n",
       "      <td>1</td>\n",
       "      <td>0</td>\n",
       "      <td>0</td>\n",
       "    </tr>\n",
       "  </tbody>\n",
       "</table>\n",
       "<p>5 rows × 226 columns</p>\n",
       "</div>"
      ],
      "text/plain": [
       "               lat      long  Area ID_1  Area ID_2  Area ID_3  Area ID_4  \\\n",
       "100100007  34.0395 -118.2656          1          0          0          0   \n",
       "100100767  34.0695 -118.2324          1          0          0          0   \n",
       "100100831  34.0424 -118.2718          1          0          0          0   \n",
       "100101004  34.0344 -118.2714          1          0          0          0   \n",
       "100101322  34.0637 -118.2361          1          0          0          0   \n",
       "\n",
       "           Area ID_5  Area ID_6  Area ID_7  Area ID_8  ...  hour_18  hour_19  \\\n",
       "100100007          0          0          0          0  ...        0        0   \n",
       "100100767          0          0          0          0  ...        0        0   \n",
       "100100831          0          0          0          0  ...        0        0   \n",
       "100101004          0          0          0          0  ...        0        0   \n",
       "100101322          0          0          0          0  ...        0        0   \n",
       "\n",
       "           hour_20  hour_21  hour_22  hour_23  day_category_afternoon  \\\n",
       "100100007        0        0        1        0                       0   \n",
       "100100767        0        0        0        0                       0   \n",
       "100100831        0        0        0        0                       0   \n",
       "100101004        1        0        0        0                       0   \n",
       "100101322        0        0        0        0                       0   \n",
       "\n",
       "           day_category_evening  day_category_morning  day_category_night  \n",
       "100100007                     0                     0                   1  \n",
       "100100767                     0                     0                   1  \n",
       "100100831                     0                     0                   1  \n",
       "100101004                     0                     0                   1  \n",
       "100101322                     1                     0                   0  \n",
       "\n",
       "[5 rows x 226 columns]"
      ]
     },
     "execution_count": 25,
     "metadata": {},
     "output_type": "execute_result"
    }
   ],
   "source": [
    "cat_cols = ['Area ID', 'Premise Description', 'month', 'day', 'year', 'hour', 'day_category']\n",
    "data_enc = pd.get_dummies(data, columns=cat_cols)\n",
    "data_enc.head()"
   ]
  },
  {
   "cell_type": "code",
   "execution_count": 33,
   "metadata": {},
   "outputs": [
    {
     "data": {
      "text/html": [
       "<div>\n",
       "<style scoped>\n",
       "    .dataframe tbody tr th:only-of-type {\n",
       "        vertical-align: middle;\n",
       "    }\n",
       "\n",
       "    .dataframe tbody tr th {\n",
       "        vertical-align: top;\n",
       "    }\n",
       "\n",
       "    .dataframe thead th {\n",
       "        text-align: right;\n",
       "    }\n",
       "</style>\n",
       "<table border=\"1\" class=\"dataframe\">\n",
       "  <thead>\n",
       "    <tr style=\"text-align: right;\">\n",
       "      <th></th>\n",
       "      <th>Area ID</th>\n",
       "      <th>Premise Description</th>\n",
       "      <th>month</th>\n",
       "      <th>day</th>\n",
       "      <th>year</th>\n",
       "      <th>hour</th>\n",
       "      <th>day_category</th>\n",
       "      <th>lat</th>\n",
       "      <th>long</th>\n",
       "      <th>labels</th>\n",
       "    </tr>\n",
       "  </thead>\n",
       "  <tbody>\n",
       "    <tr>\n",
       "      <th>100100007</th>\n",
       "      <td>1</td>\n",
       "      <td>STREET</td>\n",
       "      <td>11</td>\n",
       "      <td>8</td>\n",
       "      <td>2010</td>\n",
       "      <td>22</td>\n",
       "      <td>night</td>\n",
       "      <td>34.0395</td>\n",
       "      <td>-118.2656</td>\n",
       "      <td>1</td>\n",
       "    </tr>\n",
       "    <tr>\n",
       "      <th>100100767</th>\n",
       "      <td>1</td>\n",
       "      <td>STREET</td>\n",
       "      <td>3</td>\n",
       "      <td>31</td>\n",
       "      <td>2010</td>\n",
       "      <td>4</td>\n",
       "      <td>night</td>\n",
       "      <td>34.0695</td>\n",
       "      <td>-118.2324</td>\n",
       "      <td>1</td>\n",
       "    </tr>\n",
       "    <tr>\n",
       "      <th>100100831</th>\n",
       "      <td>1</td>\n",
       "      <td>STREET</td>\n",
       "      <td>4</td>\n",
       "      <td>18</td>\n",
       "      <td>2010</td>\n",
       "      <td>1</td>\n",
       "      <td>night</td>\n",
       "      <td>34.0424</td>\n",
       "      <td>-118.2718</td>\n",
       "      <td>1</td>\n",
       "    </tr>\n",
       "    <tr>\n",
       "      <th>100101004</th>\n",
       "      <td>1</td>\n",
       "      <td>STREET</td>\n",
       "      <td>6</td>\n",
       "      <td>5</td>\n",
       "      <td>2010</td>\n",
       "      <td>20</td>\n",
       "      <td>night</td>\n",
       "      <td>34.0344</td>\n",
       "      <td>-118.2714</td>\n",
       "      <td>1</td>\n",
       "    </tr>\n",
       "    <tr>\n",
       "      <th>100101322</th>\n",
       "      <td>1</td>\n",
       "      <td>STREET</td>\n",
       "      <td>8</td>\n",
       "      <td>7</td>\n",
       "      <td>2010</td>\n",
       "      <td>16</td>\n",
       "      <td>evening</td>\n",
       "      <td>34.0637</td>\n",
       "      <td>-118.2361</td>\n",
       "      <td>2</td>\n",
       "    </tr>\n",
       "    <tr>\n",
       "      <th>...</th>\n",
       "      <td>...</td>\n",
       "      <td>...</td>\n",
       "      <td>...</td>\n",
       "      <td>...</td>\n",
       "      <td>...</td>\n",
       "      <td>...</td>\n",
       "      <td>...</td>\n",
       "      <td>...</td>\n",
       "      <td>...</td>\n",
       "      <td>...</td>\n",
       "    </tr>\n",
       "    <tr>\n",
       "      <th>222104843</th>\n",
       "      <td>21</td>\n",
       "      <td>STREET</td>\n",
       "      <td>1</td>\n",
       "      <td>26</td>\n",
       "      <td>2022</td>\n",
       "      <td>19</td>\n",
       "      <td>night</td>\n",
       "      <td>34.1857</td>\n",
       "      <td>-118.5710</td>\n",
       "      <td>1</td>\n",
       "    </tr>\n",
       "    <tr>\n",
       "      <th>222104874</th>\n",
       "      <td>21</td>\n",
       "      <td>STREET</td>\n",
       "      <td>1</td>\n",
       "      <td>24</td>\n",
       "      <td>2022</td>\n",
       "      <td>15</td>\n",
       "      <td>afternoon</td>\n",
       "      <td>34.1938</td>\n",
       "      <td>-118.6059</td>\n",
       "      <td>0</td>\n",
       "    </tr>\n",
       "    <tr>\n",
       "      <th>222104886</th>\n",
       "      <td>21</td>\n",
       "      <td>STREET</td>\n",
       "      <td>1</td>\n",
       "      <td>24</td>\n",
       "      <td>2022</td>\n",
       "      <td>17</td>\n",
       "      <td>evening</td>\n",
       "      <td>34.1740</td>\n",
       "      <td>-118.5888</td>\n",
       "      <td>2</td>\n",
       "    </tr>\n",
       "    <tr>\n",
       "      <th>222104962</th>\n",
       "      <td>21</td>\n",
       "      <td>STREET</td>\n",
       "      <td>1</td>\n",
       "      <td>28</td>\n",
       "      <td>2022</td>\n",
       "      <td>19</td>\n",
       "      <td>night</td>\n",
       "      <td>34.1624</td>\n",
       "      <td>-118.6285</td>\n",
       "      <td>1</td>\n",
       "    </tr>\n",
       "    <tr>\n",
       "      <th>222104964</th>\n",
       "      <td>21</td>\n",
       "      <td>STREET</td>\n",
       "      <td>1</td>\n",
       "      <td>25</td>\n",
       "      <td>2022</td>\n",
       "      <td>15</td>\n",
       "      <td>afternoon</td>\n",
       "      <td>34.1658</td>\n",
       "      <td>-118.6008</td>\n",
       "      <td>0</td>\n",
       "    </tr>\n",
       "  </tbody>\n",
       "</table>\n",
       "<p>570370 rows × 10 columns</p>\n",
       "</div>"
      ],
      "text/plain": [
       "           Area ID Premise Description  month  day  year  hour day_category  \\\n",
       "100100007        1              STREET     11    8  2010    22        night   \n",
       "100100767        1              STREET      3   31  2010     4        night   \n",
       "100100831        1              STREET      4   18  2010     1        night   \n",
       "100101004        1              STREET      6    5  2010    20        night   \n",
       "100101322        1              STREET      8    7  2010    16      evening   \n",
       "...            ...                 ...    ...  ...   ...   ...          ...   \n",
       "222104843       21              STREET      1   26  2022    19        night   \n",
       "222104874       21              STREET      1   24  2022    15    afternoon   \n",
       "222104886       21              STREET      1   24  2022    17      evening   \n",
       "222104962       21              STREET      1   28  2022    19        night   \n",
       "222104964       21              STREET      1   25  2022    15    afternoon   \n",
       "\n",
       "               lat      long  labels  \n",
       "100100007  34.0395 -118.2656       1  \n",
       "100100767  34.0695 -118.2324       1  \n",
       "100100831  34.0424 -118.2718       1  \n",
       "100101004  34.0344 -118.2714       1  \n",
       "100101322  34.0637 -118.2361       2  \n",
       "...            ...       ...     ...  \n",
       "222104843  34.1857 -118.5710       1  \n",
       "222104874  34.1938 -118.6059       0  \n",
       "222104886  34.1740 -118.5888       2  \n",
       "222104962  34.1624 -118.6285       1  \n",
       "222104964  34.1658 -118.6008       0  \n",
       "\n",
       "[570370 rows x 10 columns]"
      ]
     },
     "execution_count": 33,
     "metadata": {},
     "output_type": "execute_result"
    }
   ],
   "source": [
    "kmeans = KMeans(3)\n",
    "clusters = kmeans.fit_predict(data_enc)\n",
    "labels = pd.DataFrame(clusters)\n",
    "data_labeled = data.copy()\n",
    "data_labeled['labels'] = labels.values\n",
    "# data_labeled = pd.concat((data, labels), axis=1)\n",
    "# data_labeled = data_labeled.rename({0: 'label'}, axis=1)\n",
    "\n",
    "data_labeled"
   ]
  },
  {
   "cell_type": "code",
   "execution_count": 36,
   "metadata": {},
   "outputs": [
    {
     "data": {
      "text/plain": [
       "<AxesSubplot:xlabel='long', ylabel='lat'>"
      ]
     },
     "execution_count": 36,
     "metadata": {},
     "output_type": "execute_result"
    },
    {
     "data": {
      "image/png": "[encoded data removed]",
      "text/plain": [
       "<Figure size 432x288 with 1 Axes>"
      ]
     },
     "metadata": {
      "needs_background": "light"
     },
     "output_type": "display_data"
    }
   ],
   "source": [
    "sns.scatterplot(data=data_labeled, x='long', y='lat', hue='labels')"
   ]
  },
  {
   "cell_type": "code",
   "execution_count": 38,
   "metadata": {},
   "outputs": [],
   "source": [
    "l0 = data_labeled[data_labeled.labels == 0]\n",
    "l1 = data_labeled[data_labeled.labels == 1]\n",
    "l2 = data_labeled[data_labeled.labels == 2]"
   ]
  },
  {
   "cell_type": "code",
   "execution_count": 40,
   "metadata": {},
   "outputs": [
    {
     "data": {
      "text/html": [
       "<div>\n",
       "<style scoped>\n",
       "    .dataframe tbody tr th:only-of-type {\n",
       "        vertical-align: middle;\n",
       "    }\n",
       "\n",
       "    .dataframe tbody tr th {\n",
       "        vertical-align: top;\n",
       "    }\n",
       "\n",
       "    .dataframe thead th {\n",
       "        text-align: right;\n",
       "    }\n",
       "</style>\n",
       "<table border=\"1\" class=\"dataframe\">\n",
       "  <thead>\n",
       "    <tr style=\"text-align: right;\">\n",
       "      <th></th>\n",
       "      <th>Area ID</th>\n",
       "      <th>Premise Description</th>\n",
       "      <th>month</th>\n",
       "      <th>day</th>\n",
       "      <th>year</th>\n",
       "      <th>hour</th>\n",
       "      <th>day_category</th>\n",
       "      <th>lat</th>\n",
       "      <th>long</th>\n",
       "      <th>labels</th>\n",
       "    </tr>\n",
       "  </thead>\n",
       "  <tbody>\n",
       "    <tr>\n",
       "      <th>100104017</th>\n",
       "      <td>1</td>\n",
       "      <td>STREET</td>\n",
       "      <td>1</td>\n",
       "      <td>1</td>\n",
       "      <td>2010</td>\n",
       "      <td>12</td>\n",
       "      <td>afternoon</td>\n",
       "      <td>34.0453</td>\n",
       "      <td>-118.2651</td>\n",
       "      <td>0</td>\n",
       "    </tr>\n",
       "    <tr>\n",
       "      <th>100104019</th>\n",
       "      <td>1</td>\n",
       "      <td>STREET</td>\n",
       "      <td>1</td>\n",
       "      <td>1</td>\n",
       "      <td>2010</td>\n",
       "      <td>14</td>\n",
       "      <td>afternoon</td>\n",
       "      <td>34.0503</td>\n",
       "      <td>-118.2504</td>\n",
       "      <td>0</td>\n",
       "    </tr>\n",
       "    <tr>\n",
       "      <th>100104026</th>\n",
       "      <td>1</td>\n",
       "      <td>STREET</td>\n",
       "      <td>1</td>\n",
       "      <td>1</td>\n",
       "      <td>2010</td>\n",
       "      <td>15</td>\n",
       "      <td>afternoon</td>\n",
       "      <td>34.0371</td>\n",
       "      <td>-118.2551</td>\n",
       "      <td>0</td>\n",
       "    </tr>\n",
       "    <tr>\n",
       "      <th>100104126</th>\n",
       "      <td>1</td>\n",
       "      <td>STREET</td>\n",
       "      <td>1</td>\n",
       "      <td>3</td>\n",
       "      <td>2010</td>\n",
       "      <td>14</td>\n",
       "      <td>afternoon</td>\n",
       "      <td>34.0531</td>\n",
       "      <td>-118.2478</td>\n",
       "      <td>0</td>\n",
       "    </tr>\n",
       "    <tr>\n",
       "      <th>100104222</th>\n",
       "      <td>1</td>\n",
       "      <td>STREET</td>\n",
       "      <td>1</td>\n",
       "      <td>5</td>\n",
       "      <td>2010</td>\n",
       "      <td>13</td>\n",
       "      <td>afternoon</td>\n",
       "      <td>34.0396</td>\n",
       "      <td>-118.2558</td>\n",
       "      <td>0</td>\n",
       "    </tr>\n",
       "    <tr>\n",
       "      <th>...</th>\n",
       "      <td>...</td>\n",
       "      <td>...</td>\n",
       "      <td>...</td>\n",
       "      <td>...</td>\n",
       "      <td>...</td>\n",
       "      <td>...</td>\n",
       "      <td>...</td>\n",
       "      <td>...</td>\n",
       "      <td>...</td>\n",
       "      <td>...</td>\n",
       "    </tr>\n",
       "    <tr>\n",
       "      <th>222104641</th>\n",
       "      <td>21</td>\n",
       "      <td>STREET</td>\n",
       "      <td>1</td>\n",
       "      <td>20</td>\n",
       "      <td>2022</td>\n",
       "      <td>13</td>\n",
       "      <td>afternoon</td>\n",
       "      <td>34.2194</td>\n",
       "      <td>-118.6235</td>\n",
       "      <td>0</td>\n",
       "    </tr>\n",
       "    <tr>\n",
       "      <th>222104668</th>\n",
       "      <td>21</td>\n",
       "      <td>STREET</td>\n",
       "      <td>1</td>\n",
       "      <td>21</td>\n",
       "      <td>2022</td>\n",
       "      <td>12</td>\n",
       "      <td>afternoon</td>\n",
       "      <td>34.1710</td>\n",
       "      <td>-118.5709</td>\n",
       "      <td>0</td>\n",
       "    </tr>\n",
       "    <tr>\n",
       "      <th>222104792</th>\n",
       "      <td>21</td>\n",
       "      <td>STREET</td>\n",
       "      <td>1</td>\n",
       "      <td>25</td>\n",
       "      <td>2022</td>\n",
       "      <td>15</td>\n",
       "      <td>afternoon</td>\n",
       "      <td>34.1658</td>\n",
       "      <td>-118.6008</td>\n",
       "      <td>0</td>\n",
       "    </tr>\n",
       "    <tr>\n",
       "      <th>222104874</th>\n",
       "      <td>21</td>\n",
       "      <td>STREET</td>\n",
       "      <td>1</td>\n",
       "      <td>24</td>\n",
       "      <td>2022</td>\n",
       "      <td>15</td>\n",
       "      <td>afternoon</td>\n",
       "      <td>34.1938</td>\n",
       "      <td>-118.6059</td>\n",
       "      <td>0</td>\n",
       "    </tr>\n",
       "    <tr>\n",
       "      <th>222104964</th>\n",
       "      <td>21</td>\n",
       "      <td>STREET</td>\n",
       "      <td>1</td>\n",
       "      <td>25</td>\n",
       "      <td>2022</td>\n",
       "      <td>15</td>\n",
       "      <td>afternoon</td>\n",
       "      <td>34.1658</td>\n",
       "      <td>-118.6008</td>\n",
       "      <td>0</td>\n",
       "    </tr>\n",
       "  </tbody>\n",
       "</table>\n",
       "<p>133413 rows × 10 columns</p>\n",
       "</div>"
      ],
      "text/plain": [
       "           Area ID Premise Description  month  day  year  hour day_category  \\\n",
       "100104017        1              STREET      1    1  2010    12    afternoon   \n",
       "100104019        1              STREET      1    1  2010    14    afternoon   \n",
       "100104026        1              STREET      1    1  2010    15    afternoon   \n",
       "100104126        1              STREET      1    3  2010    14    afternoon   \n",
       "100104222        1              STREET      1    5  2010    13    afternoon   \n",
       "...            ...                 ...    ...  ...   ...   ...          ...   \n",
       "222104641       21              STREET      1   20  2022    13    afternoon   \n",
       "222104668       21              STREET      1   21  2022    12    afternoon   \n",
       "222104792       21              STREET      1   25  2022    15    afternoon   \n",
       "222104874       21              STREET      1   24  2022    15    afternoon   \n",
       "222104964       21              STREET      1   25  2022    15    afternoon   \n",
       "\n",
       "               lat      long  labels  \n",
       "100104017  34.0453 -118.2651       0  \n",
       "100104019  34.0503 -118.2504       0  \n",
       "100104026  34.0371 -118.2551       0  \n",
       "100104126  34.0531 -118.2478       0  \n",
       "100104222  34.0396 -118.2558       0  \n",
       "...            ...       ...     ...  \n",
       "222104641  34.2194 -118.6235       0  \n",
       "222104668  34.1710 -118.5709       0  \n",
       "222104792  34.1658 -118.6008       0  \n",
       "222104874  34.1938 -118.6059       0  \n",
       "222104964  34.1658 -118.6008       0  \n",
       "\n",
       "[133413 rows x 10 columns]"
      ]
     },
     "execution_count": 40,
     "metadata": {},
     "output_type": "execute_result"
    }
   ],
   "source": [
    "l0"
   ]
  },
  {
   "cell_type": "code",
   "execution_count": 41,
   "metadata": {},
   "outputs": [
    {
     "data": {
      "text/plain": [
       "array(['afternoon'], dtype=object)"
      ]
     },
     "execution_count": 41,
     "metadata": {},
     "output_type": "execute_result"
    }
   ],
   "source": [
    "l0.day_category.unique()"
   ]
  },
  {
   "cell_type": "code",
   "execution_count": 53,
   "metadata": {},
   "outputs": [],
   "source": [
    "def examine_labels(data_red, col):\n",
    "    sns.histplot(data_red, x=col)\n",
    "    plt.show()"
   ]
  },
  {
   "cell_type": "code",
   "execution_count": 56,
   "metadata": {},
   "outputs": [
    {
     "name": "stdout",
     "output_type": "stream",
     "text": [
      "Cluster: 0\n",
      "----------------\n",
      "Column: Area ID\n",
      "------------------------\n"
     ]
    },
    {
     "data": {
      "image/png": "[encoded data removed]",
      "text/plain": [
       "<Figure size 432x288 with 1 Axes>"
      ]
     },
     "metadata": {
      "needs_background": "light"
     },
     "output_type": "display_data"
    },
    {
     "name": "stdout",
     "output_type": "stream",
     "text": [
      "Column: Premise Description\n",
      "------------------------\n",
      "STREET                                            125884\n",
      "PARKING LOT                                         5526\n",
      "SIDEWALK                                             637\n",
      "ALLEY                                                236\n",
      "                                                     234\n",
      "                                                   ...  \n",
      "SHOPPING MALL (COMMON AREA)                            1\n",
      "MTA BUS                                                1\n",
      "TRAM/STREETCAR(BOXLIKE WAG ON RAILS)*                  1\n",
      "LIBRARY                                                1\n",
      "TRAIN, OTHER THAN MTA (ALSO QUERY 809/810/811)         1\n",
      "Name: Premise Description, Length: 74, dtype: int64\n",
      "Column: month\n",
      "------------------------\n"
     ]
    },
    {
     "data": {
      "image/png": "[encoded data removed]",
      "text/plain": [
       "<Figure size 432x288 with 1 Axes>"
      ]
     },
     "metadata": {
      "needs_background": "light"
     },
     "output_type": "display_data"
    },
    {
     "name": "stdout",
     "output_type": "stream",
     "text": [
      "Column: day\n",
      "------------------------\n"
     ]
    },
    {
     "data": {
      "image/png": "[encoded data removed]",
      "text/plain": [
       "<Figure size 432x288 with 1 Axes>"
      ]
     },
     "metadata": {
      "needs_background": "light"
     },
     "output_type": "display_data"
    },
    {
     "name": "stdout",
     "output_type": "stream",
     "text": [
      "Column: year\n",
      "------------------------\n"
     ]
    },
    {
     "data": {
      "image/png": "[encoded data removed]",
      "text/plain": [
       "<Figure size 432x288 with 1 Axes>"
      ]
     },
     "metadata": {
      "needs_background": "light"
     },
     "output_type": "display_data"
    },
    {
     "name": "stdout",
     "output_type": "stream",
     "text": [
      "Column: hour\n",
      "------------------------\n"
     ]
    },
    {
     "data": {
      "image/png": "[encoded data removed]",
      "text/plain": [
       "<Figure size 432x288 with 1 Axes>"
      ]
     },
     "metadata": {
      "needs_background": "light"
     },
     "output_type": "display_data"
    },
    {
     "name": "stdout",
     "output_type": "stream",
     "text": [
      "Column: day_category\n",
      "------------------------\n"
     ]
    },
    {
     "data": {
      "image/png": "[encoded data removed]",
      "text/plain": [
       "<Figure size 432x288 with 1 Axes>"
      ]
     },
     "metadata": {
      "needs_background": "light"
     },
     "output_type": "display_data"
    },
    {
     "name": "stdout",
     "output_type": "stream",
     "text": [
      "Cluster: 1\n",
      "----------------\n",
      "Column: Area ID\n",
      "------------------------\n"
     ]
    },
    {
     "data": {
      "image/png": "[encoded data removed]",
      "text/plain": [
       "<Figure size 432x288 with 1 Axes>"
      ]
     },
     "metadata": {
      "needs_background": "light"
     },
     "output_type": "display_data"
    },
    {
     "name": "stdout",
     "output_type": "stream",
     "text": [
      "Column: Premise Description\n",
      "------------------------\n",
      "STREET                         178676\n",
      "PARKING LOT                      4840\n",
      "SIDEWALK                         1149\n",
      "DRIVEWAY                          364\n",
      "ALLEY                             348\n",
      "                                ...  \n",
      "TV/RADIO/APPLIANCE                  1\n",
      "NAIL SALON                          1\n",
      "MANUFACTURING COMPANY               1\n",
      "MOTEL                               1\n",
      "MTA PROPERTY OR PARKING LOT         1\n",
      "Name: Premise Description, Length: 81, dtype: int64\n",
      "Column: month\n",
      "------------------------\n"
     ]
    },
    {
     "data": {
      "image/png": "[encoded data removed]",
      "text/plain": [
       "<Figure size 432x288 with 1 Axes>"
      ]
     },
     "metadata": {
      "needs_background": "light"
     },
     "output_type": "display_data"
    },
    {
     "name": "stdout",
     "output_type": "stream",
     "text": [
      "Column: day\n",
      "------------------------\n"
     ]
    },
    {
     "data": {
      "image/png": "[encoded data removed]",
      "text/plain": [
       "<Figure size 432x288 with 1 Axes>"
      ]
     },
     "metadata": {
      "needs_background": "light"
     },
     "output_type": "display_data"
    },
    {
     "name": "stdout",
     "output_type": "stream",
     "text": [
      "Column: year\n",
      "------------------------\n"
     ]
    },
    {
     "data": {
      "image/png": "[encoded data removed]",
      "text/plain": [
       "<Figure size 432x288 with 1 Axes>"
      ]
     },
     "metadata": {
      "needs_background": "light"
     },
     "output_type": "display_data"
    },
    {
     "name": "stdout",
     "output_type": "stream",
     "text": [
      "Column: hour\n",
      "------------------------\n"
     ]
    },
    {
     "data": {
      "image/png": "[encoded data removed]",
      "text/plain": [
       "<Figure size 432x288 with 1 Axes>"
      ]
     },
     "metadata": {
      "needs_background": "light"
     },
     "output_type": "display_data"
    },
    {
     "name": "stdout",
     "output_type": "stream",
     "text": [
      "Column: day_category\n",
      "------------------------\n"
     ]
    },
    {
     "data": {
      "image/png": "[encoded data removed]",
      "text/plain": [
       "<Figure size 432x288 with 1 Axes>"
      ]
     },
     "metadata": {
      "needs_background": "light"
     },
     "output_type": "display_data"
    },
    {
     "name": "stdout",
     "output_type": "stream",
     "text": [
      "Cluster: 2\n",
      "----------------\n",
      "Column: Area ID\n",
      "------------------------\n"
     ]
    },
    {
     "data": {
      "image/png": "[encoded data removed]",
      "text/plain": [
       "<Figure size 432x288 with 1 Axes>"
      ]
     },
     "metadata": {
      "needs_background": "light"
     },
     "output_type": "display_data"
    },
    {
     "name": "stdout",
     "output_type": "stream",
     "text": [
      "Column: Premise Description\n",
      "------------------------\n",
      "STREET                                     238698\n",
      "PARKING LOT                                  7654\n",
      "SIDEWALK                                     1270\n",
      "DRIVEWAY                                      435\n",
      "ALLEY                                         431\n",
      "                                            ...  \n",
      "ENTERTAINMENT/COMEDY CLUB (OTHER)               1\n",
      "BUS, SCHOOL, CHURCH                             1\n",
      "MAIL BOX                                        1\n",
      "AUTOMATED TELLER MACHINE (ATM)                  1\n",
      "MEDICAL MARIJUANA FACILITIES/BUSINESSES         1\n",
      "Name: Premise Description, Length: 82, dtype: int64\n",
      "Column: month\n",
      "------------------------\n"
     ]
    },
    {
     "data": {
      "image/png": "[encoded data removed]",
      "text/plain": [
       "<Figure size 432x288 with 1 Axes>"
      ]
     },
     "metadata": {
      "needs_background": "light"
     },
     "output_type": "display_data"
    },
    {
     "name": "stdout",
     "output_type": "stream",
     "text": [
      "Column: day\n",
      "------------------------\n"
     ]
    },
    {
     "data": {
      "image/png": "[encoded data removed]",
      "text/plain": [
       "<Figure size 432x288 with 1 Axes>"
      ]
     },
     "metadata": {
      "needs_background": "light"
     },
     "output_type": "display_data"
    },
    {
     "name": "stdout",
     "output_type": "stream",
     "text": [
      "Column: year\n",
      "------------------------\n"
     ]
    },
    {
     "data": {
      "image/png": "[encoded data removed]",
      "text/plain": [
       "<Figure size 432x288 with 1 Axes>"
      ]
     },
     "metadata": {
      "needs_background": "light"
     },
     "output_type": "display_data"
    },
    {
     "name": "stdout",
     "output_type": "stream",
     "text": [
      "Column: hour\n",
      "------------------------\n"
     ]
    },
    {
     "data": {
      "image/png": "[encoded data removed]",
      "text/plain": [
       "<Figure size 432x288 with 1 Axes>"
      ]
     },
     "metadata": {
      "needs_background": "light"
     },
     "output_type": "display_data"
    },
    {
     "name": "stdout",
     "output_type": "stream",
     "text": [
      "Column: day_category\n",
      "------------------------\n"
     ]
    },
    {
     "data": {
      "image/png": "[encoded data removed]",
      "text/plain": [
       "<Figure size 432x288 with 1 Axes>"
      ]
     },
     "metadata": {
      "needs_background": "light"
     },
     "output_type": "display_data"
    }
   ],
   "source": [
    "clusters = [l0, l1, l2]\n",
    "for i, cluster in enumerate(clusters):\n",
    "    print(f'Cluster: {i}')\n",
    "    print('----------------')\n",
    "    for col in cat_cols:\n",
    "        print(f'Column: {col}')\n",
    "        print('------------------------')\n",
    "        if col == 'Premise Description':\n",
    "            print(cluster[col].value_counts())\n",
    "        \n",
    "        else:\n",
    "            examine_labels(l0, col)\n"
   ]
  },
  {
   "cell_type": "code",
   "execution_count": null,
   "metadata": {},
   "outputs": [],
   "source": []
  }
 ],
 "metadata": {
  "interpreter": {
   "hash": "434f2d4492ee23c6b54d5d95fb30abd565c5424b4769cc63277e86306b83f2fa"
  },
  "kernelspec": {
   "display_name": "Python 3.8.3 ('base')",
   "language": "python",
   "name": "python3"
  },
  "language_info": {
   "codemirror_mode": {
    "name": "ipython",
    "version": 3
   },
   "file_extension": ".py",
   "mimetype": "text/x-python",
   "name": "python",
   "nbconvert_exporter": "python",
   "pygments_lexer": "ipython3",
   "version": "3.8.3"
  },
  "orig_nbformat": 4
 },
 "nbformat": 4,
 "nbformat_minor": 2
}
