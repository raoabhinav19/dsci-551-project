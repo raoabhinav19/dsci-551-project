{
 "cells": [
  {
   "cell_type": "markdown",
   "metadata": {},
   "source": [
    "# Imports"
   ]
  },
  {
   "cell_type": "code",
   "execution_count": 25,
   "metadata": {},
   "outputs": [],
   "source": [
    "import pandas as pd\n",
    "import numpy as np\n",
    "import seaborn as sns\n",
    "import matplotlib.pyplot as plt\n",
    "\n",
    "from sklearn.cluster import KMeans\n",
    "from kmodes.kmodes import KModes\n",
    "from kmodes.kprototypes import KPrototypes\n",
    "%matplotlib inline"
   ]
  },
  {
   "cell_type": "markdown",
   "metadata": {},
   "source": [
    "# Data\n",
    "After reading in data, we also need to separate the `location` variable into its corresponding latitude and longitude coordinates."
   ]
  },
  {
   "cell_type": "code",
   "execution_count": 26,
   "metadata": {},
   "outputs": [
    {
     "data": {
      "text/html": [
       "<div>\n",
       "<style scoped>\n",
       "    .dataframe tbody tr th:only-of-type {\n",
       "        vertical-align: middle;\n",
       "    }\n",
       "\n",
       "    .dataframe tbody tr th {\n",
       "        vertical-align: top;\n",
       "    }\n",
       "\n",
       "    .dataframe thead th {\n",
       "        text-align: right;\n",
       "    }\n",
       "</style>\n",
       "<table border=\"1\" class=\"dataframe\">\n",
       "  <thead>\n",
       "    <tr style=\"text-align: right;\">\n",
       "      <th></th>\n",
       "      <th>Area ID</th>\n",
       "      <th>Premise Description</th>\n",
       "      <th>Location</th>\n",
       "      <th>month</th>\n",
       "      <th>day</th>\n",
       "      <th>year</th>\n",
       "      <th>hour</th>\n",
       "      <th>day_category</th>\n",
       "    </tr>\n",
       "  </thead>\n",
       "  <tbody>\n",
       "    <tr>\n",
       "      <th>100100007</th>\n",
       "      <td>1</td>\n",
       "      <td>STREET</td>\n",
       "      <td>(34.0395, -118.2656)</td>\n",
       "      <td>11</td>\n",
       "      <td>8</td>\n",
       "      <td>2010</td>\n",
       "      <td>22</td>\n",
       "      <td>night</td>\n",
       "    </tr>\n",
       "    <tr>\n",
       "      <th>100100767</th>\n",
       "      <td>1</td>\n",
       "      <td>STREET</td>\n",
       "      <td>(34.0695, -118.2324)</td>\n",
       "      <td>3</td>\n",
       "      <td>31</td>\n",
       "      <td>2010</td>\n",
       "      <td>4</td>\n",
       "      <td>night</td>\n",
       "    </tr>\n",
       "    <tr>\n",
       "      <th>100100831</th>\n",
       "      <td>1</td>\n",
       "      <td>STREET</td>\n",
       "      <td>(34.0424, -118.2718)</td>\n",
       "      <td>4</td>\n",
       "      <td>18</td>\n",
       "      <td>2010</td>\n",
       "      <td>1</td>\n",
       "      <td>night</td>\n",
       "    </tr>\n",
       "    <tr>\n",
       "      <th>100101004</th>\n",
       "      <td>1</td>\n",
       "      <td>STREET</td>\n",
       "      <td>(34.0344, -118.2714)</td>\n",
       "      <td>6</td>\n",
       "      <td>5</td>\n",
       "      <td>2010</td>\n",
       "      <td>20</td>\n",
       "      <td>night</td>\n",
       "    </tr>\n",
       "    <tr>\n",
       "      <th>100101322</th>\n",
       "      <td>1</td>\n",
       "      <td>STREET</td>\n",
       "      <td>(34.0637, -118.2361)</td>\n",
       "      <td>8</td>\n",
       "      <td>7</td>\n",
       "      <td>2010</td>\n",
       "      <td>16</td>\n",
       "      <td>evening</td>\n",
       "    </tr>\n",
       "  </tbody>\n",
       "</table>\n",
       "</div>"
      ],
      "text/plain": [
       "           Area ID Premise Description              Location  month  day  \\\n",
       "100100007        1              STREET  (34.0395, -118.2656)     11    8   \n",
       "100100767        1              STREET  (34.0695, -118.2324)      3   31   \n",
       "100100831        1              STREET  (34.0424, -118.2718)      4   18   \n",
       "100101004        1              STREET  (34.0344, -118.2714)      6    5   \n",
       "100101322        1              STREET  (34.0637, -118.2361)      8    7   \n",
       "\n",
       "           year  hour day_category  \n",
       "100100007  2010    22        night  \n",
       "100100767  2010     4        night  \n",
       "100100831  2010     1        night  \n",
       "100101004  2010    20        night  \n",
       "100101322  2010    16      evening  "
      ]
     },
     "execution_count": 26,
     "metadata": {},
     "output_type": "execute_result"
    }
   ],
   "source": [
    "# Read in data\n",
    "data = pd.read_json('../data_json/traffic_data.zip', orient='index', convert_axes=False)\n",
    "# orient --> indicates expected json string format, we're oriented on the indicies\n",
    "# convert_axis --> to stop from labeling index (accident id) as datetime\n",
    "\n",
    "data.head()"
   ]
  },
  {
   "cell_type": "code",
   "execution_count": 27,
   "metadata": {},
   "outputs": [
    {
     "name": "stdout",
     "output_type": "stream",
     "text": [
      "<class 'pandas.core.frame.DataFrame'>\n",
      "Index: 570372 entries, 100100007 to 222104964\n",
      "Data columns (total 8 columns):\n",
      " #   Column               Non-Null Count   Dtype \n",
      "---  ------               --------------   ----- \n",
      " 0   Area ID              570372 non-null  int64 \n",
      " 1   Premise Description  570372 non-null  object\n",
      " 2   Location             570372 non-null  object\n",
      " 3   month                570372 non-null  int64 \n",
      " 4   day                  570372 non-null  int64 \n",
      " 5   year                 570372 non-null  int64 \n",
      " 6   hour                 570372 non-null  int64 \n",
      " 7   day_category         570372 non-null  object\n",
      "dtypes: int64(5), object(3)\n",
      "memory usage: 39.2+ MB\n"
     ]
    }
   ],
   "source": [
    "data.info() # get datatypes of various objects"
   ]
  },
  {
   "cell_type": "markdown",
   "metadata": {},
   "source": [
    "## Change mis-categorized variables\n",
    "- we are treating Area Id, month, day, year, hour as categories (e.g. dtype=object) even though they were initially categorized as integers."
   ]
  },
  {
   "cell_type": "code",
   "execution_count": 28,
   "metadata": {},
   "outputs": [],
   "source": [
    "def change_to_cat(df, col):\n",
    "    \"\"\"Function to change columns to type object (categorical)\"\"\"\n",
    "    \n",
    "    df[col] = df[col].astype('object')\n",
    "    return df"
   ]
  },
  {
   "cell_type": "code",
   "execution_count": 29,
   "metadata": {},
   "outputs": [
    {
     "name": "stdout",
     "output_type": "stream",
     "text": [
      "<class 'pandas.core.frame.DataFrame'>\n",
      "Index: 570372 entries, 100100007 to 222104964\n",
      "Data columns (total 8 columns):\n",
      " #   Column               Non-Null Count   Dtype \n",
      "---  ------               --------------   ----- \n",
      " 0   Area ID              570372 non-null  object\n",
      " 1   Premise Description  570372 non-null  object\n",
      " 2   Location             570372 non-null  object\n",
      " 3   month                570372 non-null  object\n",
      " 4   day                  570372 non-null  object\n",
      " 5   year                 570372 non-null  object\n",
      " 6   hour                 570372 non-null  object\n",
      " 7   day_category         570372 non-null  object\n",
      "dtypes: object(8)\n",
      "memory usage: 39.2+ MB\n"
     ]
    }
   ],
   "source": [
    "cols_to_change = ['Area ID', 'Premise Description', 'month', 'day', 'year', 'hour', 'day_category']\n",
    "\n",
    "for col in cols_to_change:\n",
    "    data = change_to_cat(data, col)\n",
    "\n",
    "data.info() # correctly changed all categorical variables to object"
   ]
  },
  {
   "cell_type": "markdown",
   "metadata": {},
   "source": [
    "## Convert location into lat/long coordinates"
   ]
  },
  {
   "cell_type": "code",
   "execution_count": 30,
   "metadata": {},
   "outputs": [],
   "source": [
    "def get_latitude(loc):\n",
    "    lat, _, _ = loc.partition(',')\n",
    "    lat = lat.replace('(', '')\n",
    "\n",
    "    return float(lat)\n",
    "\n",
    "def get_longitude(loc):\n",
    "    _, _, long = loc.partition(',')\n",
    "    long = long.replace(')', '')\n",
    "\n",
    "    return float(long)"
   ]
  },
  {
   "cell_type": "code",
   "execution_count": 31,
   "metadata": {},
   "outputs": [
    {
     "data": {
      "text/html": [
       "<div>\n",
       "<style scoped>\n",
       "    .dataframe tbody tr th:only-of-type {\n",
       "        vertical-align: middle;\n",
       "    }\n",
       "\n",
       "    .dataframe tbody tr th {\n",
       "        vertical-align: top;\n",
       "    }\n",
       "\n",
       "    .dataframe thead th {\n",
       "        text-align: right;\n",
       "    }\n",
       "</style>\n",
       "<table border=\"1\" class=\"dataframe\">\n",
       "  <thead>\n",
       "    <tr style=\"text-align: right;\">\n",
       "      <th></th>\n",
       "      <th>lat</th>\n",
       "      <th>long</th>\n",
       "    </tr>\n",
       "  </thead>\n",
       "  <tbody>\n",
       "    <tr>\n",
       "      <th>100100007</th>\n",
       "      <td>34.0395</td>\n",
       "      <td>-118.2656</td>\n",
       "    </tr>\n",
       "    <tr>\n",
       "      <th>100100767</th>\n",
       "      <td>34.0695</td>\n",
       "      <td>-118.2324</td>\n",
       "    </tr>\n",
       "    <tr>\n",
       "      <th>100100831</th>\n",
       "      <td>34.0424</td>\n",
       "      <td>-118.2718</td>\n",
       "    </tr>\n",
       "    <tr>\n",
       "      <th>100101004</th>\n",
       "      <td>34.0344</td>\n",
       "      <td>-118.2714</td>\n",
       "    </tr>\n",
       "    <tr>\n",
       "      <th>100101322</th>\n",
       "      <td>34.0637</td>\n",
       "      <td>-118.2361</td>\n",
       "    </tr>\n",
       "  </tbody>\n",
       "</table>\n",
       "</div>"
      ],
      "text/plain": [
       "               lat      long\n",
       "100100007  34.0395 -118.2656\n",
       "100100767  34.0695 -118.2324\n",
       "100100831  34.0424 -118.2718\n",
       "100101004  34.0344 -118.2714\n",
       "100101322  34.0637 -118.2361"
      ]
     },
     "execution_count": 31,
     "metadata": {},
     "output_type": "execute_result"
    }
   ],
   "source": [
    "data['lat'] = data.Location.apply(get_latitude)\n",
    "data['long'] = data.Location.apply(get_longitude)\n",
    "data.drop(columns='Location', inplace=True)\n",
    "data[['lat', 'long']].head()"
   ]
  },
  {
   "cell_type": "code",
   "execution_count": 32,
   "metadata": {},
   "outputs": [],
   "source": [
    "# Filter out coordinates that fall outside the rough range of Los Angeles\n",
    "data = data[(data['lat'] <= 36) & (data['long'] <= -110)] "
   ]
  },
  {
   "cell_type": "markdown",
   "metadata": {},
   "source": [
    "# Cluster Analysis"
   ]
  },
  {
   "cell_type": "code",
   "execution_count": 58,
   "metadata": {},
   "outputs": [],
   "source": [
    "def hist_plot(data_red, col):\n",
    "    sns.histplot(data_red, x=col)\n",
    "    plt.show()"
   ]
  },
  {
   "cell_type": "code",
   "execution_count": 64,
   "metadata": {},
   "outputs": [],
   "source": [
    "def evaluate_clusters(cltrs):\n",
    "    \"\"\"Analysis where clstrs refer to dataframes split based on cluster label\"\"\"\n",
    "    for i, cluster in enumerate(cltrs):\n",
    "        print(f'Cluster: {i}')\n",
    "        print('----------------')\n",
    "        for col in cluster.columns:\n",
    "            print(f'Column: {col}')\n",
    "            print('------------------------')\n",
    "            if col == 'Premise Description':\n",
    "                print(cluster[col].value_counts())\n",
    "            \n",
    "            elif col == 'label':\n",
    "                pass\n",
    "            \n",
    "            else:\n",
    "                hist_plot(cluster, col)\n",
    "\n",
    "            print()"
   ]
  },
  {
   "cell_type": "markdown",
   "metadata": {},
   "source": [
    "# 1st Clustering Approach - Kmodes\n",
    "Because the majority of our data is categorical, we have chosen to explore the kmodes clustering implementation which uses a different dissimlarity measure and utilizes the most frequent category (mode) instead of the mean."
   ]
  },
  {
   "cell_type": "markdown",
   "metadata": {},
   "source": [
    "## Binning Location coordinates\n",
    "Since our approach is kmodes we need to convert all of our variables into categorical. Our only true numeric variable is latitude and longitude, so we are interested in binning these locations to perform kmodes.\n",
    "\n",
    "**I was having confusion binning a value with two entries corresponding to latitude/longitude --> wouldn't we lose information binning these separately**"
   ]
  },
  {
   "cell_type": "code",
   "execution_count": 9,
   "metadata": {},
   "outputs": [
    {
     "data": {
      "text/plain": [
       "<AxesSubplot:xlabel='lat', ylabel='Count'>"
      ]
     },
     "execution_count": 9,
     "metadata": {},
     "output_type": "execute_result"
    },
    {
     "data": {
      "image/png": "[encoded data removed]",
      "text/plain": [
       "<Figure size 432x288 with 1 Axes>"
      ]
     },
     "metadata": {
      "needs_background": "light"
     },
     "output_type": "display_data"
    }
   ],
   "source": [
    "sns.histplot(data=data, x='lat', bins=12)"
   ]
  },
  {
   "cell_type": "markdown",
   "metadata": {},
   "source": [
    "# 2nd Clustering Approach --> K-Prototypes (mix between K-means and K-modes)"
   ]
  },
  {
   "cell_type": "code",
   "execution_count": 33,
   "metadata": {},
   "outputs": [
    {
     "data": {
      "text/html": [
       "<div>\n",
       "<style scoped>\n",
       "    .dataframe tbody tr th:only-of-type {\n",
       "        vertical-align: middle;\n",
       "    }\n",
       "\n",
       "    .dataframe tbody tr th {\n",
       "        vertical-align: top;\n",
       "    }\n",
       "\n",
       "    .dataframe thead th {\n",
       "        text-align: right;\n",
       "    }\n",
       "</style>\n",
       "<table border=\"1\" class=\"dataframe\">\n",
       "  <thead>\n",
       "    <tr style=\"text-align: right;\">\n",
       "      <th></th>\n",
       "      <th>Area ID</th>\n",
       "      <th>Premise Description</th>\n",
       "      <th>month</th>\n",
       "      <th>day</th>\n",
       "      <th>year</th>\n",
       "      <th>hour</th>\n",
       "      <th>day_category</th>\n",
       "      <th>lat</th>\n",
       "      <th>long</th>\n",
       "    </tr>\n",
       "  </thead>\n",
       "  <tbody>\n",
       "    <tr>\n",
       "      <th>100100007</th>\n",
       "      <td>1</td>\n",
       "      <td>STREET</td>\n",
       "      <td>11</td>\n",
       "      <td>8</td>\n",
       "      <td>2010</td>\n",
       "      <td>22</td>\n",
       "      <td>night</td>\n",
       "      <td>34.0395</td>\n",
       "      <td>-118.2656</td>\n",
       "    </tr>\n",
       "    <tr>\n",
       "      <th>100100767</th>\n",
       "      <td>1</td>\n",
       "      <td>STREET</td>\n",
       "      <td>3</td>\n",
       "      <td>31</td>\n",
       "      <td>2010</td>\n",
       "      <td>4</td>\n",
       "      <td>night</td>\n",
       "      <td>34.0695</td>\n",
       "      <td>-118.2324</td>\n",
       "    </tr>\n",
       "    <tr>\n",
       "      <th>100100831</th>\n",
       "      <td>1</td>\n",
       "      <td>STREET</td>\n",
       "      <td>4</td>\n",
       "      <td>18</td>\n",
       "      <td>2010</td>\n",
       "      <td>1</td>\n",
       "      <td>night</td>\n",
       "      <td>34.0424</td>\n",
       "      <td>-118.2718</td>\n",
       "    </tr>\n",
       "    <tr>\n",
       "      <th>100101004</th>\n",
       "      <td>1</td>\n",
       "      <td>STREET</td>\n",
       "      <td>6</td>\n",
       "      <td>5</td>\n",
       "      <td>2010</td>\n",
       "      <td>20</td>\n",
       "      <td>night</td>\n",
       "      <td>34.0344</td>\n",
       "      <td>-118.2714</td>\n",
       "    </tr>\n",
       "    <tr>\n",
       "      <th>100101322</th>\n",
       "      <td>1</td>\n",
       "      <td>STREET</td>\n",
       "      <td>8</td>\n",
       "      <td>7</td>\n",
       "      <td>2010</td>\n",
       "      <td>16</td>\n",
       "      <td>evening</td>\n",
       "      <td>34.0637</td>\n",
       "      <td>-118.2361</td>\n",
       "    </tr>\n",
       "  </tbody>\n",
       "</table>\n",
       "</div>"
      ],
      "text/plain": [
       "          Area ID Premise Description month day  year hour day_category  \\\n",
       "100100007       1              STREET    11   8  2010   22        night   \n",
       "100100767       1              STREET     3  31  2010    4        night   \n",
       "100100831       1              STREET     4  18  2010    1        night   \n",
       "100101004       1              STREET     6   5  2010   20        night   \n",
       "100101322       1              STREET     8   7  2010   16      evening   \n",
       "\n",
       "               lat      long  \n",
       "100100007  34.0395 -118.2656  \n",
       "100100767  34.0695 -118.2324  \n",
       "100100831  34.0424 -118.2718  \n",
       "100101004  34.0344 -118.2714  \n",
       "100101322  34.0637 -118.2361  "
      ]
     },
     "execution_count": 33,
     "metadata": {},
     "output_type": "execute_result"
    }
   ],
   "source": [
    "data.head()"
   ]
  },
  {
   "cell_type": "code",
   "execution_count": 44,
   "metadata": {},
   "outputs": [],
   "source": [
    "cat_cols = [0, 1, 2, 3, 4, 5, 6]  # corresponds to all variables other than lat/long"
   ]
  },
  {
   "cell_type": "code",
   "execution_count": 45,
   "metadata": {},
   "outputs": [
    {
     "data": {
      "text/html": [
       "<div>\n",
       "<style scoped>\n",
       "    .dataframe tbody tr th:only-of-type {\n",
       "        vertical-align: middle;\n",
       "    }\n",
       "\n",
       "    .dataframe tbody tr th {\n",
       "        vertical-align: top;\n",
       "    }\n",
       "\n",
       "    .dataframe thead th {\n",
       "        text-align: right;\n",
       "    }\n",
       "</style>\n",
       "<table border=\"1\" class=\"dataframe\">\n",
       "  <thead>\n",
       "    <tr style=\"text-align: right;\">\n",
       "      <th></th>\n",
       "      <th>Area ID</th>\n",
       "      <th>Premise Description</th>\n",
       "      <th>month</th>\n",
       "      <th>day</th>\n",
       "      <th>year</th>\n",
       "      <th>hour</th>\n",
       "      <th>day_category</th>\n",
       "      <th>lat</th>\n",
       "      <th>long</th>\n",
       "      <th>label</th>\n",
       "    </tr>\n",
       "  </thead>\n",
       "  <tbody>\n",
       "    <tr>\n",
       "      <th>100100007</th>\n",
       "      <td>1</td>\n",
       "      <td>STREET</td>\n",
       "      <td>11</td>\n",
       "      <td>8</td>\n",
       "      <td>2010</td>\n",
       "      <td>22</td>\n",
       "      <td>night</td>\n",
       "      <td>34.0395</td>\n",
       "      <td>-118.2656</td>\n",
       "      <td>0</td>\n",
       "    </tr>\n",
       "    <tr>\n",
       "      <th>100100767</th>\n",
       "      <td>1</td>\n",
       "      <td>STREET</td>\n",
       "      <td>3</td>\n",
       "      <td>31</td>\n",
       "      <td>2010</td>\n",
       "      <td>4</td>\n",
       "      <td>night</td>\n",
       "      <td>34.0695</td>\n",
       "      <td>-118.2324</td>\n",
       "      <td>0</td>\n",
       "    </tr>\n",
       "    <tr>\n",
       "      <th>100100831</th>\n",
       "      <td>1</td>\n",
       "      <td>STREET</td>\n",
       "      <td>4</td>\n",
       "      <td>18</td>\n",
       "      <td>2010</td>\n",
       "      <td>1</td>\n",
       "      <td>night</td>\n",
       "      <td>34.0424</td>\n",
       "      <td>-118.2718</td>\n",
       "      <td>0</td>\n",
       "    </tr>\n",
       "    <tr>\n",
       "      <th>100101004</th>\n",
       "      <td>1</td>\n",
       "      <td>STREET</td>\n",
       "      <td>6</td>\n",
       "      <td>5</td>\n",
       "      <td>2010</td>\n",
       "      <td>20</td>\n",
       "      <td>night</td>\n",
       "      <td>34.0344</td>\n",
       "      <td>-118.2714</td>\n",
       "      <td>0</td>\n",
       "    </tr>\n",
       "    <tr>\n",
       "      <th>100101322</th>\n",
       "      <td>1</td>\n",
       "      <td>STREET</td>\n",
       "      <td>8</td>\n",
       "      <td>7</td>\n",
       "      <td>2010</td>\n",
       "      <td>16</td>\n",
       "      <td>evening</td>\n",
       "      <td>34.0637</td>\n",
       "      <td>-118.2361</td>\n",
       "      <td>0</td>\n",
       "    </tr>\n",
       "  </tbody>\n",
       "</table>\n",
       "</div>"
      ],
      "text/plain": [
       "          Area ID Premise Description month day  year hour day_category  \\\n",
       "100100007       1              STREET    11   8  2010   22        night   \n",
       "100100767       1              STREET     3  31  2010    4        night   \n",
       "100100831       1              STREET     4  18  2010    1        night   \n",
       "100101004       1              STREET     6   5  2010   20        night   \n",
       "100101322       1              STREET     8   7  2010   16      evening   \n",
       "\n",
       "               lat      long  label  \n",
       "100100007  34.0395 -118.2656      0  \n",
       "100100767  34.0695 -118.2324      0  \n",
       "100100831  34.0424 -118.2718      0  \n",
       "100101004  34.0344 -118.2714      0  \n",
       "100101322  34.0637 -118.2361      0  "
      ]
     },
     "execution_count": 45,
     "metadata": {},
     "output_type": "execute_result"
    }
   ],
   "source": [
    "# Takes roughly 24 minutes to run on my machine\n",
    "\n",
    "dfmatrix = data.to_numpy()\n",
    "kproto = KPrototypes(n_clusters=3, init='Huang', n_jobs=-1)\n",
    "\n",
    "clusters = kproto.fit_predict(dfmatrix, categorical=cat_cols)\n",
    "labeled_data = data.copy()\n",
    "labeled_data['label'] = clusters\n",
    "\n",
    "labeled_data.head()\n"
   ]
  },
  {
   "cell_type": "code",
   "execution_count": 48,
   "metadata": {},
   "outputs": [
    {
     "data": {
      "text/plain": [
       "array([['34.04996668767997', '-118.3273640969244', '12', 'STREET', '10',\n",
       "        '3', '2014', '19', 'night'],\n",
       "       ['34.110094489233084', '-118.40159283214841', '8', 'STREET', '7',\n",
       "        '26', '2012', '13', 'afternoon'],\n",
       "       ['34.096211816204345', '-118.37368973559157', '10', 'STREET', '6',\n",
       "        '23', '2017', '10', 'morning']], dtype='<U32')"
      ]
     },
     "execution_count": 48,
     "metadata": {},
     "output_type": "execute_result"
    }
   ],
   "source": [
    "kproto.cluster_centroids_"
   ]
  },
  {
   "cell_type": "code",
   "execution_count": 50,
   "metadata": {},
   "outputs": [
    {
     "data": {
      "text/html": [
       "<div>\n",
       "<style scoped>\n",
       "    .dataframe tbody tr th:only-of-type {\n",
       "        vertical-align: middle;\n",
       "    }\n",
       "\n",
       "    .dataframe tbody tr th {\n",
       "        vertical-align: top;\n",
       "    }\n",
       "\n",
       "    .dataframe thead th {\n",
       "        text-align: right;\n",
       "    }\n",
       "</style>\n",
       "<table border=\"1\" class=\"dataframe\">\n",
       "  <thead>\n",
       "    <tr style=\"text-align: right;\">\n",
       "      <th></th>\n",
       "      <th>label</th>\n",
       "      <th>Area ID</th>\n",
       "      <th>Premise Description</th>\n",
       "      <th>month</th>\n",
       "      <th>day</th>\n",
       "      <th>year</th>\n",
       "      <th>hour</th>\n",
       "      <th>day_category</th>\n",
       "      <th>lat</th>\n",
       "      <th>long</th>\n",
       "    </tr>\n",
       "  </thead>\n",
       "  <tbody>\n",
       "    <tr>\n",
       "      <th>0</th>\n",
       "      <td>0</td>\n",
       "      <td>12</td>\n",
       "      <td>STREET</td>\n",
       "      <td>10</td>\n",
       "      <td>3</td>\n",
       "      <td>2014</td>\n",
       "      <td>19</td>\n",
       "      <td>night</td>\n",
       "      <td>34.049967</td>\n",
       "      <td>-118.327364</td>\n",
       "    </tr>\n",
       "    <tr>\n",
       "      <th>1</th>\n",
       "      <td>1</td>\n",
       "      <td>8</td>\n",
       "      <td>STREET</td>\n",
       "      <td>7</td>\n",
       "      <td>26</td>\n",
       "      <td>2012</td>\n",
       "      <td>13</td>\n",
       "      <td>afternoon</td>\n",
       "      <td>34.110094</td>\n",
       "      <td>-118.401593</td>\n",
       "    </tr>\n",
       "    <tr>\n",
       "      <th>2</th>\n",
       "      <td>2</td>\n",
       "      <td>10</td>\n",
       "      <td>STREET</td>\n",
       "      <td>6</td>\n",
       "      <td>23</td>\n",
       "      <td>2017</td>\n",
       "      <td>10</td>\n",
       "      <td>morning</td>\n",
       "      <td>34.096212</td>\n",
       "      <td>-118.373690</td>\n",
       "    </tr>\n",
       "  </tbody>\n",
       "</table>\n",
       "</div>"
      ],
      "text/plain": [
       "   label  Area ID Premise Description  month  day  year  hour day_category  \\\n",
       "0      0       12              STREET     10    3  2014    19        night   \n",
       "1      1        8              STREET      7   26  2012    13    afternoon   \n",
       "2      2       10              STREET      6   23  2017    10      morning   \n",
       "\n",
       "         lat        long  \n",
       "0  34.049967 -118.327364  \n",
       "1  34.110094 -118.401593  \n",
       "2  34.096212 -118.373690  "
      ]
     },
     "execution_count": 50,
     "metadata": {},
     "output_type": "execute_result"
    }
   ],
   "source": [
    "# Give a general description of mode/mean for variables of different clusters\n",
    "labeled_data.groupby('label').agg(\n",
    "    {\n",
    "        'Area ID': lambda x: x.value_counts().index[0],\n",
    "        'Premise Description': lambda x: x.value_counts().index[0],\n",
    "        'month': lambda x: x.value_counts().index[0],\n",
    "        'day': lambda x: x.value_counts().index[0],\n",
    "        'year': lambda x: x.value_counts().index[0],\n",
    "        'hour': lambda x: x.value_counts().index[0],\n",
    "        'day_category': lambda x: x.value_counts().index[0],\n",
    "        'lat': 'mean',\n",
    "        'long': 'mean'\n",
    "    }\n",
    ").reset_index()"
   ]
  },
  {
   "cell_type": "markdown",
   "metadata": {},
   "source": [
    "## Evaluation"
   ]
  },
  {
   "cell_type": "code",
   "execution_count": 62,
   "metadata": {},
   "outputs": [],
   "source": [
    "clusters = [labeled_data[labeled_data.label == label] for label in [0, 1, 2]]"
   ]
  },
  {
   "cell_type": "code",
   "execution_count": 65,
   "metadata": {},
   "outputs": [
    {
     "name": "stdout",
     "output_type": "stream",
     "text": [
      "Cluster: 0\n",
      "----------------\n",
      "Column: Area ID\n",
      "------------------------\n"
     ]
    },
    {
     "data": {
      "image/png": "[encoded data removed]",
      "text/plain": [
       "<Figure size 432x288 with 1 Axes>"
      ]
     },
     "metadata": {
      "needs_background": "light"
     },
     "output_type": "display_data"
    },
    {
     "name": "stdout",
     "output_type": "stream",
     "text": [
      "\n",
      "Column: Premise Description\n",
      "------------------------\n",
      "STREET                                                 228148\n",
      "PARKING LOT                                              6554\n",
      "SIDEWALK                                                 1585\n",
      "ALLEY                                                     453\n",
      "DRIVEWAY                                                  451\n",
      "                                                        ...  \n",
      "BUS-CHARTER/PRIVATE                                         1\n",
      "SEX ORIENTED/BOOK STORE/STRIP CLUB/GENTLEMAN'S CLUB         1\n",
      "NAIL SALON                                                  1\n",
      "MANUFACTURING COMPANY                                       1\n",
      "MEDICAL MARIJUANA FACILITIES/BUSINESSES                     1\n",
      "Name: Premise Description, Length: 83, dtype: int64\n",
      "\n",
      "Column: month\n",
      "------------------------\n"
     ]
    },
    {
     "data": {
      "image/png": "[encoded data removed]",
      "text/plain": [
       "<Figure size 432x288 with 1 Axes>"
      ]
     },
     "metadata": {
      "needs_background": "light"
     },
     "output_type": "display_data"
    },
    {
     "name": "stdout",
     "output_type": "stream",
     "text": [
      "\n",
      "Column: day\n",
      "------------------------\n"
     ]
    },
    {
     "data": {
      "image/png": "[encoded data removed]",
      "text/plain": [
       "<Figure size 432x288 with 1 Axes>"
      ]
     },
     "metadata": {
      "needs_background": "light"
     },
     "output_type": "display_data"
    },
    {
     "name": "stdout",
     "output_type": "stream",
     "text": [
      "\n",
      "Column: year\n",
      "------------------------\n"
     ]
    },
    {
     "data": {
      "image/png": "[encoded data removed]",
      "text/plain": [
       "<Figure size 432x288 with 1 Axes>"
      ]
     },
     "metadata": {
      "needs_background": "light"
     },
     "output_type": "display_data"
    },
    {
     "name": "stdout",
     "output_type": "stream",
     "text": [
      "\n",
      "Column: hour\n",
      "------------------------\n"
     ]
    },
    {
     "data": {
      "image/png": "[encoded data removed]",
      "text/plain": [
       "<Figure size 432x288 with 1 Axes>"
      ]
     },
     "metadata": {
      "needs_background": "light"
     },
     "output_type": "display_data"
    },
    {
     "name": "stdout",
     "output_type": "stream",
     "text": [
      "\n",
      "Column: day_category\n",
      "------------------------\n"
     ]
    },
    {
     "data": {
      "image/png": "[encoded data removed]",
      "text/plain": [
       "<Figure size 432x288 with 1 Axes>"
      ]
     },
     "metadata": {
      "needs_background": "light"
     },
     "output_type": "display_data"
    },
    {
     "name": "stdout",
     "output_type": "stream",
     "text": [
      "\n",
      "Column: lat\n",
      "------------------------\n"
     ]
    },
    {
     "data": {
      "image/png": "[encoded data removed]",
      "text/plain": [
       "<Figure size 432x288 with 1 Axes>"
      ]
     },
     "metadata": {
      "needs_background": "light"
     },
     "output_type": "display_data"
    },
    {
     "name": "stdout",
     "output_type": "stream",
     "text": [
      "\n",
      "Column: long\n",
      "------------------------\n"
     ]
    },
    {
     "data": {
      "image/png": "[encoded data removed]",
      "text/plain": [
       "<Figure size 432x288 with 1 Axes>"
      ]
     },
     "metadata": {
      "needs_background": "light"
     },
     "output_type": "display_data"
    },
    {
     "name": "stdout",
     "output_type": "stream",
     "text": [
      "\n",
      "Column: label\n",
      "------------------------\n",
      "\n",
      "Cluster: 1\n",
      "----------------\n",
      "Column: Area ID\n",
      "------------------------\n"
     ]
    },
    {
     "data": {
      "image/png": "[encoded data removed]",
      "text/plain": [
       "<Figure size 432x288 with 1 Axes>"
      ]
     },
     "metadata": {
      "needs_background": "light"
     },
     "output_type": "display_data"
    },
    {
     "name": "stdout",
     "output_type": "stream",
     "text": [
      "\n",
      "Column: Premise Description\n",
      "------------------------\n",
      "STREET              160706\n",
      "PARKING LOT           6358\n",
      "SIDEWALK               660\n",
      "                       330\n",
      "ALLEY                  274\n",
      "                     ...  \n",
      "PAWN SHOP                1\n",
      "WAREHOUSE                1\n",
      "RECYCLING CENTER         1\n",
      "LIBRARY                  1\n",
      "AUTO REPAIR SHOP         1\n",
      "Name: Premise Description, Length: 75, dtype: int64\n",
      "\n",
      "Column: month\n",
      "------------------------\n"
     ]
    },
    {
     "data": {
      "image/png": "[encoded data removed]",
      "text/plain": [
       "<Figure size 432x288 with 1 Axes>"
      ]
     },
     "metadata": {
      "needs_background": "light"
     },
     "output_type": "display_data"
    },
    {
     "name": "stdout",
     "output_type": "stream",
     "text": [
      "\n",
      "Column: day\n",
      "------------------------\n"
     ]
    },
    {
     "data": {
      "image/png": "[encoded data removed]",
      "text/plain": [
       "<Figure size 432x288 with 1 Axes>"
      ]
     },
     "metadata": {
      "needs_background": "light"
     },
     "output_type": "display_data"
    },
    {
     "name": "stdout",
     "output_type": "stream",
     "text": [
      "\n",
      "Column: year\n",
      "------------------------\n"
     ]
    },
    {
     "data": {
      "image/png": "[encoded data removed]",
      "text/plain": [
       "<Figure size 432x288 with 1 Axes>"
      ]
     },
     "metadata": {
      "needs_background": "light"
     },
     "output_type": "display_data"
    },
    {
     "name": "stdout",
     "output_type": "stream",
     "text": [
      "\n",
      "Column: hour\n",
      "------------------------\n"
     ]
    },
    {
     "data": {
      "image/png": "[encoded data removed]",
      "text/plain": [
       "<Figure size 432x288 with 1 Axes>"
      ]
     },
     "metadata": {
      "needs_background": "light"
     },
     "output_type": "display_data"
    },
    {
     "name": "stdout",
     "output_type": "stream",
     "text": [
      "\n",
      "Column: day_category\n",
      "------------------------\n"
     ]
    },
    {
     "data": {
      "image/png": "[encoded data removed]",
      "text/plain": [
       "<Figure size 432x288 with 1 Axes>"
      ]
     },
     "metadata": {
      "needs_background": "light"
     },
     "output_type": "display_data"
    },
    {
     "name": "stdout",
     "output_type": "stream",
     "text": [
      "\n",
      "Column: lat\n",
      "------------------------\n"
     ]
    },
    {
     "data": {
      "image/png": "[encoded data removed]",
      "text/plain": [
       "<Figure size 432x288 with 1 Axes>"
      ]
     },
     "metadata": {
      "needs_background": "light"
     },
     "output_type": "display_data"
    },
    {
     "name": "stdout",
     "output_type": "stream",
     "text": [
      "\n",
      "Column: long\n",
      "------------------------\n"
     ]
    },
    {
     "data": {
      "image/png": "[encoded data removed]",
      "text/plain": [
       "<Figure size 432x288 with 1 Axes>"
      ]
     },
     "metadata": {
      "needs_background": "light"
     },
     "output_type": "display_data"
    },
    {
     "name": "stdout",
     "output_type": "stream",
     "text": [
      "\n",
      "Column: label\n",
      "------------------------\n",
      "\n",
      "Cluster: 2\n",
      "----------------\n",
      "Column: Area ID\n",
      "------------------------\n"
     ]
    },
    {
     "data": {
      "image/png": "[encoded data removed]",
      "text/plain": [
       "<Figure size 432x288 with 1 Axes>"
      ]
     },
     "metadata": {
      "needs_background": "light"
     },
     "output_type": "display_data"
    },
    {
     "name": "stdout",
     "output_type": "stream",
     "text": [
      "\n",
      "Column: Premise Description\n",
      "------------------------\n",
      "STREET                                     154404\n",
      "PARKING LOT                                  5108\n",
      "SIDEWALK                                      811\n",
      "ALLEY                                         288\n",
      "DRIVEWAY                                      285\n",
      "                                            ...  \n",
      "AIRCRAFT                                        1\n",
      "BUS-CHARTER/PRIVATE                             1\n",
      "ENTERTAINMENT/COMEDY CLUB (OTHER)               1\n",
      "CONSTRUCTION SITE                               1\n",
      "MEDICAL MARIJUANA FACILITIES/BUSINESSES         1\n",
      "Name: Premise Description, Length: 79, dtype: int64\n",
      "\n",
      "Column: month\n",
      "------------------------\n"
     ]
    },
    {
     "data": {
      "image/png": "[encoded data removed]",
      "text/plain": [
       "<Figure size 432x288 with 1 Axes>"
      ]
     },
     "metadata": {
      "needs_background": "light"
     },
     "output_type": "display_data"
    },
    {
     "name": "stdout",
     "output_type": "stream",
     "text": [
      "\n",
      "Column: day\n",
      "------------------------\n"
     ]
    },
    {
     "data": {
      "image/png": "[encoded data removed]",
      "text/plain": [
       "<Figure size 432x288 with 1 Axes>"
      ]
     },
     "metadata": {
      "needs_background": "light"
     },
     "output_type": "display_data"
    },
    {
     "name": "stdout",
     "output_type": "stream",
     "text": [
      "\n",
      "Column: year\n",
      "------------------------\n"
     ]
    },
    {
     "data": {
      "image/png": "[encoded data removed]",
      "text/plain": [
       "<Figure size 432x288 with 1 Axes>"
      ]
     },
     "metadata": {
      "needs_background": "light"
     },
     "output_type": "display_data"
    },
    {
     "name": "stdout",
     "output_type": "stream",
     "text": [
      "\n",
      "Column: hour\n",
      "------------------------\n"
     ]
    },
    {
     "data": {
      "image/png": "[encoded data removed]",
      "text/plain": [
       "<Figure size 432x288 with 1 Axes>"
      ]
     },
     "metadata": {
      "needs_background": "light"
     },
     "output_type": "display_data"
    },
    {
     "name": "stdout",
     "output_type": "stream",
     "text": [
      "\n",
      "Column: day_category\n",
      "------------------------\n"
     ]
    },
    {
     "data": {
      "image/png": "[encoded data removed]",
      "text/plain": [
       "<Figure size 432x288 with 1 Axes>"
      ]
     },
     "metadata": {
      "needs_background": "light"
     },
     "output_type": "display_data"
    },
    {
     "name": "stdout",
     "output_type": "stream",
     "text": [
      "\n",
      "Column: lat\n",
      "------------------------\n"
     ]
    },
    {
     "data": {
      "image/png": "[encoded data removed]",
      "text/plain": [
       "<Figure size 432x288 with 1 Axes>"
      ]
     },
     "metadata": {
      "needs_background": "light"
     },
     "output_type": "display_data"
    },
    {
     "name": "stdout",
     "output_type": "stream",
     "text": [
      "\n",
      "Column: long\n",
      "------------------------\n"
     ]
    },
    {
     "data": {
      "image/png": "[encoded data removed]",
      "text/plain": [
       "<Figure size 432x288 with 1 Axes>"
      ]
     },
     "metadata": {
      "needs_background": "light"
     },
     "output_type": "display_data"
    },
    {
     "name": "stdout",
     "output_type": "stream",
     "text": [
      "\n",
      "Column: label\n",
      "------------------------\n",
      "\n"
     ]
    }
   ],
   "source": [
    "evaluate_clusters(cltrs=clusters)"
   ]
  },
  {
   "cell_type": "markdown",
   "metadata": {},
   "source": [
    "### Scratch"
   ]
  },
  {
   "cell_type": "code",
   "execution_count": 53,
   "metadata": {},
   "outputs": [
    {
     "data": {
      "text/plain": [
       "<AxesSubplot:xlabel='long', ylabel='lat'>"
      ]
     },
     "execution_count": 53,
     "metadata": {},
     "output_type": "execute_result"
    },
    {
     "data": {
      "image/png": "[encoded data removed]",
      "text/plain": [
       "<Figure size 432x288 with 1 Axes>"
      ]
     },
     "metadata": {
      "needs_background": "light"
     },
     "output_type": "display_data"
    }
   ],
   "source": [
    "sns.scatterplot(data=labeled_data, x='long', y='lat', hue='label')"
   ]
  },
  {
   "cell_type": "code",
   "execution_count": null,
   "metadata": {},
   "outputs": [],
   "source": []
  },
  {
   "cell_type": "markdown",
   "metadata": {},
   "source": [
    "# 3rd Clustering Approach --> Kmeans with One Hot Encoding"
   ]
  },
  {
   "cell_type": "code",
   "execution_count": 9,
   "metadata": {},
   "outputs": [
    {
     "data": {
      "text/html": [
       "<div>\n",
       "<style scoped>\n",
       "    .dataframe tbody tr th:only-of-type {\n",
       "        vertical-align: middle;\n",
       "    }\n",
       "\n",
       "    .dataframe tbody tr th {\n",
       "        vertical-align: top;\n",
       "    }\n",
       "\n",
       "    .dataframe thead th {\n",
       "        text-align: right;\n",
       "    }\n",
       "</style>\n",
       "<table border=\"1\" class=\"dataframe\">\n",
       "  <thead>\n",
       "    <tr style=\"text-align: right;\">\n",
       "      <th></th>\n",
       "      <th>lat</th>\n",
       "      <th>long</th>\n",
       "      <th>Area ID_1</th>\n",
       "      <th>Area ID_2</th>\n",
       "      <th>Area ID_3</th>\n",
       "      <th>Area ID_4</th>\n",
       "      <th>Area ID_5</th>\n",
       "      <th>Area ID_6</th>\n",
       "      <th>Area ID_7</th>\n",
       "      <th>Area ID_8</th>\n",
       "      <th>...</th>\n",
       "      <th>hour_18</th>\n",
       "      <th>hour_19</th>\n",
       "      <th>hour_20</th>\n",
       "      <th>hour_21</th>\n",
       "      <th>hour_22</th>\n",
       "      <th>hour_23</th>\n",
       "      <th>day_category_afternoon</th>\n",
       "      <th>day_category_evening</th>\n",
       "      <th>day_category_morning</th>\n",
       "      <th>day_category_night</th>\n",
       "    </tr>\n",
       "  </thead>\n",
       "  <tbody>\n",
       "    <tr>\n",
       "      <th>100100007</th>\n",
       "      <td>34.0395</td>\n",
       "      <td>-118.2656</td>\n",
       "      <td>1</td>\n",
       "      <td>0</td>\n",
       "      <td>0</td>\n",
       "      <td>0</td>\n",
       "      <td>0</td>\n",
       "      <td>0</td>\n",
       "      <td>0</td>\n",
       "      <td>0</td>\n",
       "      <td>...</td>\n",
       "      <td>0</td>\n",
       "      <td>0</td>\n",
       "      <td>0</td>\n",
       "      <td>0</td>\n",
       "      <td>1</td>\n",
       "      <td>0</td>\n",
       "      <td>0</td>\n",
       "      <td>0</td>\n",
       "      <td>0</td>\n",
       "      <td>1</td>\n",
       "    </tr>\n",
       "    <tr>\n",
       "      <th>100100767</th>\n",
       "      <td>34.0695</td>\n",
       "      <td>-118.2324</td>\n",
       "      <td>1</td>\n",
       "      <td>0</td>\n",
       "      <td>0</td>\n",
       "      <td>0</td>\n",
       "      <td>0</td>\n",
       "      <td>0</td>\n",
       "      <td>0</td>\n",
       "      <td>0</td>\n",
       "      <td>...</td>\n",
       "      <td>0</td>\n",
       "      <td>0</td>\n",
       "      <td>0</td>\n",
       "      <td>0</td>\n",
       "      <td>0</td>\n",
       "      <td>0</td>\n",
       "      <td>0</td>\n",
       "      <td>0</td>\n",
       "      <td>0</td>\n",
       "      <td>1</td>\n",
       "    </tr>\n",
       "    <tr>\n",
       "      <th>100100831</th>\n",
       "      <td>34.0424</td>\n",
       "      <td>-118.2718</td>\n",
       "      <td>1</td>\n",
       "      <td>0</td>\n",
       "      <td>0</td>\n",
       "      <td>0</td>\n",
       "      <td>0</td>\n",
       "      <td>0</td>\n",
       "      <td>0</td>\n",
       "      <td>0</td>\n",
       "      <td>...</td>\n",
       "      <td>0</td>\n",
       "      <td>0</td>\n",
       "      <td>0</td>\n",
       "      <td>0</td>\n",
       "      <td>0</td>\n",
       "      <td>0</td>\n",
       "      <td>0</td>\n",
       "      <td>0</td>\n",
       "      <td>0</td>\n",
       "      <td>1</td>\n",
       "    </tr>\n",
       "    <tr>\n",
       "      <th>100101004</th>\n",
       "      <td>34.0344</td>\n",
       "      <td>-118.2714</td>\n",
       "      <td>1</td>\n",
       "      <td>0</td>\n",
       "      <td>0</td>\n",
       "      <td>0</td>\n",
       "      <td>0</td>\n",
       "      <td>0</td>\n",
       "      <td>0</td>\n",
       "      <td>0</td>\n",
       "      <td>...</td>\n",
       "      <td>0</td>\n",
       "      <td>0</td>\n",
       "      <td>1</td>\n",
       "      <td>0</td>\n",
       "      <td>0</td>\n",
       "      <td>0</td>\n",
       "      <td>0</td>\n",
       "      <td>0</td>\n",
       "      <td>0</td>\n",
       "      <td>1</td>\n",
       "    </tr>\n",
       "    <tr>\n",
       "      <th>100101322</th>\n",
       "      <td>34.0637</td>\n",
       "      <td>-118.2361</td>\n",
       "      <td>1</td>\n",
       "      <td>0</td>\n",
       "      <td>0</td>\n",
       "      <td>0</td>\n",
       "      <td>0</td>\n",
       "      <td>0</td>\n",
       "      <td>0</td>\n",
       "      <td>0</td>\n",
       "      <td>...</td>\n",
       "      <td>0</td>\n",
       "      <td>0</td>\n",
       "      <td>0</td>\n",
       "      <td>0</td>\n",
       "      <td>0</td>\n",
       "      <td>0</td>\n",
       "      <td>0</td>\n",
       "      <td>1</td>\n",
       "      <td>0</td>\n",
       "      <td>0</td>\n",
       "    </tr>\n",
       "  </tbody>\n",
       "</table>\n",
       "<p>5 rows × 226 columns</p>\n",
       "</div>"
      ],
      "text/plain": [
       "               lat      long  Area ID_1  Area ID_2  Area ID_3  Area ID_4  \\\n",
       "100100007  34.0395 -118.2656          1          0          0          0   \n",
       "100100767  34.0695 -118.2324          1          0          0          0   \n",
       "100100831  34.0424 -118.2718          1          0          0          0   \n",
       "100101004  34.0344 -118.2714          1          0          0          0   \n",
       "100101322  34.0637 -118.2361          1          0          0          0   \n",
       "\n",
       "           Area ID_5  Area ID_6  Area ID_7  Area ID_8  ...  hour_18  hour_19  \\\n",
       "100100007          0          0          0          0  ...        0        0   \n",
       "100100767          0          0          0          0  ...        0        0   \n",
       "100100831          0          0          0          0  ...        0        0   \n",
       "100101004          0          0          0          0  ...        0        0   \n",
       "100101322          0          0          0          0  ...        0        0   \n",
       "\n",
       "           hour_20  hour_21  hour_22  hour_23  day_category_afternoon  \\\n",
       "100100007        0        0        1        0                       0   \n",
       "100100767        0        0        0        0                       0   \n",
       "100100831        0        0        0        0                       0   \n",
       "100101004        1        0        0        0                       0   \n",
       "100101322        0        0        0        0                       0   \n",
       "\n",
       "           day_category_evening  day_category_morning  day_category_night  \n",
       "100100007                     0                     0                   1  \n",
       "100100767                     0                     0                   1  \n",
       "100100831                     0                     0                   1  \n",
       "100101004                     0                     0                   1  \n",
       "100101322                     1                     0                   0  \n",
       "\n",
       "[5 rows x 226 columns]"
      ]
     },
     "execution_count": 9,
     "metadata": {},
     "output_type": "execute_result"
    }
   ],
   "source": [
    "cat_cols = ['Area ID', 'Premise Description', 'month', 'day', 'year', 'hour', 'day_category']\n",
    "data_enc = pd.get_dummies(data, columns=cat_cols)\n",
    "data_enc.head()"
   ]
  },
  {
   "cell_type": "code",
   "execution_count": 10,
   "metadata": {},
   "outputs": [
    {
     "ename": "KeyboardInterrupt",
     "evalue": "",
     "output_type": "error",
     "traceback": [
      "\u001b[0;31m---------------------------------------------------------------------------\u001b[0m",
      "\u001b[0;31mKeyboardInterrupt\u001b[0m                         Traceback (most recent call last)",
      "\u001b[0;32m<__array_function__ internals>\u001b[0m in \u001b[0;36mwhere\u001b[0;34m(*args, **kwargs)\u001b[0m\n",
      "\u001b[0;31mKeyboardInterrupt\u001b[0m: "
     ]
    },
    {
     "name": "stderr",
     "output_type": "stream",
     "text": [
      "Exception ignored in: 'sklearn.cluster._k_means_common._relocate_empty_clusters_dense'\n",
      "Traceback (most recent call last):\n",
      "  File \"<__array_function__ internals>\", line 2, in where\n",
      "KeyboardInterrupt: \n"
     ]
    },
    {
     "data": {
      "text/html": [
       "<div>\n",
       "<style scoped>\n",
       "    .dataframe tbody tr th:only-of-type {\n",
       "        vertical-align: middle;\n",
       "    }\n",
       "\n",
       "    .dataframe tbody tr th {\n",
       "        vertical-align: top;\n",
       "    }\n",
       "\n",
       "    .dataframe thead th {\n",
       "        text-align: right;\n",
       "    }\n",
       "</style>\n",
       "<table border=\"1\" class=\"dataframe\">\n",
       "  <thead>\n",
       "    <tr style=\"text-align: right;\">\n",
       "      <th></th>\n",
       "      <th>Area ID</th>\n",
       "      <th>Premise Description</th>\n",
       "      <th>month</th>\n",
       "      <th>day</th>\n",
       "      <th>year</th>\n",
       "      <th>hour</th>\n",
       "      <th>day_category</th>\n",
       "      <th>lat</th>\n",
       "      <th>long</th>\n",
       "      <th>labels</th>\n",
       "    </tr>\n",
       "  </thead>\n",
       "  <tbody>\n",
       "    <tr>\n",
       "      <th>100100007</th>\n",
       "      <td>1</td>\n",
       "      <td>STREET</td>\n",
       "      <td>11</td>\n",
       "      <td>8</td>\n",
       "      <td>2010</td>\n",
       "      <td>22</td>\n",
       "      <td>night</td>\n",
       "      <td>34.0395</td>\n",
       "      <td>-118.2656</td>\n",
       "      <td>2</td>\n",
       "    </tr>\n",
       "    <tr>\n",
       "      <th>100100767</th>\n",
       "      <td>1</td>\n",
       "      <td>STREET</td>\n",
       "      <td>3</td>\n",
       "      <td>31</td>\n",
       "      <td>2010</td>\n",
       "      <td>4</td>\n",
       "      <td>night</td>\n",
       "      <td>34.0695</td>\n",
       "      <td>-118.2324</td>\n",
       "      <td>2</td>\n",
       "    </tr>\n",
       "    <tr>\n",
       "      <th>100100831</th>\n",
       "      <td>1</td>\n",
       "      <td>STREET</td>\n",
       "      <td>4</td>\n",
       "      <td>18</td>\n",
       "      <td>2010</td>\n",
       "      <td>1</td>\n",
       "      <td>night</td>\n",
       "      <td>34.0424</td>\n",
       "      <td>-118.2718</td>\n",
       "      <td>2</td>\n",
       "    </tr>\n",
       "    <tr>\n",
       "      <th>100101004</th>\n",
       "      <td>1</td>\n",
       "      <td>STREET</td>\n",
       "      <td>6</td>\n",
       "      <td>5</td>\n",
       "      <td>2010</td>\n",
       "      <td>20</td>\n",
       "      <td>night</td>\n",
       "      <td>34.0344</td>\n",
       "      <td>-118.2714</td>\n",
       "      <td>2</td>\n",
       "    </tr>\n",
       "    <tr>\n",
       "      <th>100101322</th>\n",
       "      <td>1</td>\n",
       "      <td>STREET</td>\n",
       "      <td>8</td>\n",
       "      <td>7</td>\n",
       "      <td>2010</td>\n",
       "      <td>16</td>\n",
       "      <td>evening</td>\n",
       "      <td>34.0637</td>\n",
       "      <td>-118.2361</td>\n",
       "      <td>1</td>\n",
       "    </tr>\n",
       "    <tr>\n",
       "      <th>...</th>\n",
       "      <td>...</td>\n",
       "      <td>...</td>\n",
       "      <td>...</td>\n",
       "      <td>...</td>\n",
       "      <td>...</td>\n",
       "      <td>...</td>\n",
       "      <td>...</td>\n",
       "      <td>...</td>\n",
       "      <td>...</td>\n",
       "      <td>...</td>\n",
       "    </tr>\n",
       "    <tr>\n",
       "      <th>222104843</th>\n",
       "      <td>21</td>\n",
       "      <td>STREET</td>\n",
       "      <td>1</td>\n",
       "      <td>26</td>\n",
       "      <td>2022</td>\n",
       "      <td>19</td>\n",
       "      <td>night</td>\n",
       "      <td>34.1857</td>\n",
       "      <td>-118.5710</td>\n",
       "      <td>2</td>\n",
       "    </tr>\n",
       "    <tr>\n",
       "      <th>222104874</th>\n",
       "      <td>21</td>\n",
       "      <td>STREET</td>\n",
       "      <td>1</td>\n",
       "      <td>24</td>\n",
       "      <td>2022</td>\n",
       "      <td>15</td>\n",
       "      <td>afternoon</td>\n",
       "      <td>34.1938</td>\n",
       "      <td>-118.6059</td>\n",
       "      <td>0</td>\n",
       "    </tr>\n",
       "    <tr>\n",
       "      <th>222104886</th>\n",
       "      <td>21</td>\n",
       "      <td>STREET</td>\n",
       "      <td>1</td>\n",
       "      <td>24</td>\n",
       "      <td>2022</td>\n",
       "      <td>17</td>\n",
       "      <td>evening</td>\n",
       "      <td>34.1740</td>\n",
       "      <td>-118.5888</td>\n",
       "      <td>1</td>\n",
       "    </tr>\n",
       "    <tr>\n",
       "      <th>222104962</th>\n",
       "      <td>21</td>\n",
       "      <td>STREET</td>\n",
       "      <td>1</td>\n",
       "      <td>28</td>\n",
       "      <td>2022</td>\n",
       "      <td>19</td>\n",
       "      <td>night</td>\n",
       "      <td>34.1624</td>\n",
       "      <td>-118.6285</td>\n",
       "      <td>2</td>\n",
       "    </tr>\n",
       "    <tr>\n",
       "      <th>222104964</th>\n",
       "      <td>21</td>\n",
       "      <td>STREET</td>\n",
       "      <td>1</td>\n",
       "      <td>25</td>\n",
       "      <td>2022</td>\n",
       "      <td>15</td>\n",
       "      <td>afternoon</td>\n",
       "      <td>34.1658</td>\n",
       "      <td>-118.6008</td>\n",
       "      <td>0</td>\n",
       "    </tr>\n",
       "  </tbody>\n",
       "</table>\n",
       "<p>570370 rows × 10 columns</p>\n",
       "</div>"
      ],
      "text/plain": [
       "           Area ID Premise Description  month  day  year  hour day_category  \\\n",
       "100100007        1              STREET     11    8  2010    22        night   \n",
       "100100767        1              STREET      3   31  2010     4        night   \n",
       "100100831        1              STREET      4   18  2010     1        night   \n",
       "100101004        1              STREET      6    5  2010    20        night   \n",
       "100101322        1              STREET      8    7  2010    16      evening   \n",
       "...            ...                 ...    ...  ...   ...   ...          ...   \n",
       "222104843       21              STREET      1   26  2022    19        night   \n",
       "222104874       21              STREET      1   24  2022    15    afternoon   \n",
       "222104886       21              STREET      1   24  2022    17      evening   \n",
       "222104962       21              STREET      1   28  2022    19        night   \n",
       "222104964       21              STREET      1   25  2022    15    afternoon   \n",
       "\n",
       "               lat      long  labels  \n",
       "100100007  34.0395 -118.2656       2  \n",
       "100100767  34.0695 -118.2324       2  \n",
       "100100831  34.0424 -118.2718       2  \n",
       "100101004  34.0344 -118.2714       2  \n",
       "100101322  34.0637 -118.2361       1  \n",
       "...            ...       ...     ...  \n",
       "222104843  34.1857 -118.5710       2  \n",
       "222104874  34.1938 -118.6059       0  \n",
       "222104886  34.1740 -118.5888       1  \n",
       "222104962  34.1624 -118.6285       2  \n",
       "222104964  34.1658 -118.6008       0  \n",
       "\n",
       "[570370 rows x 10 columns]"
      ]
     },
     "execution_count": 10,
     "metadata": {},
     "output_type": "execute_result"
    }
   ],
   "source": [
    "kmeans = KMeans(3)\n",
    "clusters = kmeans.fit_predict(data_enc)\n",
    "labels = pd.DataFrame(clusters)\n",
    "data_labeled = data.copy()\n",
    "data_labeled['labels'] = labels.values\n",
    "# data_labeled = pd.concat((data, labels), axis=1)\n",
    "# data_labeled = data_labeled.rename({0: 'label'}, axis=1)\n",
    "\n",
    "data_labeled"
   ]
  },
  {
   "cell_type": "code",
   "execution_count": null,
   "metadata": {},
   "outputs": [
    {
     "data": {
      "text/plain": [
       "<AxesSubplot:xlabel='long', ylabel='lat'>"
      ]
     },
     "execution_count": 36,
     "metadata": {},
     "output_type": "execute_result"
    },
    {
     "data": {
      "image/png": "[encoded data removed]",
      "text/plain": [
       "<Figure size 432x288 with 1 Axes>"
      ]
     },
     "metadata": {
      "needs_background": "light"
     },
     "output_type": "display_data"
    }
   ],
   "source": [
    "sns.scatterplot(data=data_labeled, x='long', y='lat', hue='labels')"
   ]
  },
  {
   "cell_type": "code",
   "execution_count": null,
   "metadata": {},
   "outputs": [],
   "source": [
    "l0 = data_labeled[data_labeled.labels == 0]\n",
    "l1 = data_labeled[data_labeled.labels == 1]\n",
    "l2 = data_labeled[data_labeled.labels == 2]"
   ]
  },
  {
   "cell_type": "code",
   "execution_count": null,
   "metadata": {},
   "outputs": [
    {
     "data": {
      "text/html": [
       "<div>\n",
       "<style scoped>\n",
       "    .dataframe tbody tr th:only-of-type {\n",
       "        vertical-align: middle;\n",
       "    }\n",
       "\n",
       "    .dataframe tbody tr th {\n",
       "        vertical-align: top;\n",
       "    }\n",
       "\n",
       "    .dataframe thead th {\n",
       "        text-align: right;\n",
       "    }\n",
       "</style>\n",
       "<table border=\"1\" class=\"dataframe\">\n",
       "  <thead>\n",
       "    <tr style=\"text-align: right;\">\n",
       "      <th></th>\n",
       "      <th>Area ID</th>\n",
       "      <th>Premise Description</th>\n",
       "      <th>month</th>\n",
       "      <th>day</th>\n",
       "      <th>year</th>\n",
       "      <th>hour</th>\n",
       "      <th>day_category</th>\n",
       "      <th>lat</th>\n",
       "      <th>long</th>\n",
       "      <th>labels</th>\n",
       "    </tr>\n",
       "  </thead>\n",
       "  <tbody>\n",
       "    <tr>\n",
       "      <th>100104017</th>\n",
       "      <td>1</td>\n",
       "      <td>STREET</td>\n",
       "      <td>1</td>\n",
       "      <td>1</td>\n",
       "      <td>2010</td>\n",
       "      <td>12</td>\n",
       "      <td>afternoon</td>\n",
       "      <td>34.0453</td>\n",
       "      <td>-118.2651</td>\n",
       "      <td>0</td>\n",
       "    </tr>\n",
       "    <tr>\n",
       "      <th>100104019</th>\n",
       "      <td>1</td>\n",
       "      <td>STREET</td>\n",
       "      <td>1</td>\n",
       "      <td>1</td>\n",
       "      <td>2010</td>\n",
       "      <td>14</td>\n",
       "      <td>afternoon</td>\n",
       "      <td>34.0503</td>\n",
       "      <td>-118.2504</td>\n",
       "      <td>0</td>\n",
       "    </tr>\n",
       "    <tr>\n",
       "      <th>100104026</th>\n",
       "      <td>1</td>\n",
       "      <td>STREET</td>\n",
       "      <td>1</td>\n",
       "      <td>1</td>\n",
       "      <td>2010</td>\n",
       "      <td>15</td>\n",
       "      <td>afternoon</td>\n",
       "      <td>34.0371</td>\n",
       "      <td>-118.2551</td>\n",
       "      <td>0</td>\n",
       "    </tr>\n",
       "    <tr>\n",
       "      <th>100104126</th>\n",
       "      <td>1</td>\n",
       "      <td>STREET</td>\n",
       "      <td>1</td>\n",
       "      <td>3</td>\n",
       "      <td>2010</td>\n",
       "      <td>14</td>\n",
       "      <td>afternoon</td>\n",
       "      <td>34.0531</td>\n",
       "      <td>-118.2478</td>\n",
       "      <td>0</td>\n",
       "    </tr>\n",
       "    <tr>\n",
       "      <th>100104222</th>\n",
       "      <td>1</td>\n",
       "      <td>STREET</td>\n",
       "      <td>1</td>\n",
       "      <td>5</td>\n",
       "      <td>2010</td>\n",
       "      <td>13</td>\n",
       "      <td>afternoon</td>\n",
       "      <td>34.0396</td>\n",
       "      <td>-118.2558</td>\n",
       "      <td>0</td>\n",
       "    </tr>\n",
       "    <tr>\n",
       "      <th>...</th>\n",
       "      <td>...</td>\n",
       "      <td>...</td>\n",
       "      <td>...</td>\n",
       "      <td>...</td>\n",
       "      <td>...</td>\n",
       "      <td>...</td>\n",
       "      <td>...</td>\n",
       "      <td>...</td>\n",
       "      <td>...</td>\n",
       "      <td>...</td>\n",
       "    </tr>\n",
       "    <tr>\n",
       "      <th>222104641</th>\n",
       "      <td>21</td>\n",
       "      <td>STREET</td>\n",
       "      <td>1</td>\n",
       "      <td>20</td>\n",
       "      <td>2022</td>\n",
       "      <td>13</td>\n",
       "      <td>afternoon</td>\n",
       "      <td>34.2194</td>\n",
       "      <td>-118.6235</td>\n",
       "      <td>0</td>\n",
       "    </tr>\n",
       "    <tr>\n",
       "      <th>222104668</th>\n",
       "      <td>21</td>\n",
       "      <td>STREET</td>\n",
       "      <td>1</td>\n",
       "      <td>21</td>\n",
       "      <td>2022</td>\n",
       "      <td>12</td>\n",
       "      <td>afternoon</td>\n",
       "      <td>34.1710</td>\n",
       "      <td>-118.5709</td>\n",
       "      <td>0</td>\n",
       "    </tr>\n",
       "    <tr>\n",
       "      <th>222104792</th>\n",
       "      <td>21</td>\n",
       "      <td>STREET</td>\n",
       "      <td>1</td>\n",
       "      <td>25</td>\n",
       "      <td>2022</td>\n",
       "      <td>15</td>\n",
       "      <td>afternoon</td>\n",
       "      <td>34.1658</td>\n",
       "      <td>-118.6008</td>\n",
       "      <td>0</td>\n",
       "    </tr>\n",
       "    <tr>\n",
       "      <th>222104874</th>\n",
       "      <td>21</td>\n",
       "      <td>STREET</td>\n",
       "      <td>1</td>\n",
       "      <td>24</td>\n",
       "      <td>2022</td>\n",
       "      <td>15</td>\n",
       "      <td>afternoon</td>\n",
       "      <td>34.1938</td>\n",
       "      <td>-118.6059</td>\n",
       "      <td>0</td>\n",
       "    </tr>\n",
       "    <tr>\n",
       "      <th>222104964</th>\n",
       "      <td>21</td>\n",
       "      <td>STREET</td>\n",
       "      <td>1</td>\n",
       "      <td>25</td>\n",
       "      <td>2022</td>\n",
       "      <td>15</td>\n",
       "      <td>afternoon</td>\n",
       "      <td>34.1658</td>\n",
       "      <td>-118.6008</td>\n",
       "      <td>0</td>\n",
       "    </tr>\n",
       "  </tbody>\n",
       "</table>\n",
       "<p>133413 rows × 10 columns</p>\n",
       "</div>"
      ],
      "text/plain": [
       "           Area ID Premise Description  month  day  year  hour day_category  \\\n",
       "100104017        1              STREET      1    1  2010    12    afternoon   \n",
       "100104019        1              STREET      1    1  2010    14    afternoon   \n",
       "100104026        1              STREET      1    1  2010    15    afternoon   \n",
       "100104126        1              STREET      1    3  2010    14    afternoon   \n",
       "100104222        1              STREET      1    5  2010    13    afternoon   \n",
       "...            ...                 ...    ...  ...   ...   ...          ...   \n",
       "222104641       21              STREET      1   20  2022    13    afternoon   \n",
       "222104668       21              STREET      1   21  2022    12    afternoon   \n",
       "222104792       21              STREET      1   25  2022    15    afternoon   \n",
       "222104874       21              STREET      1   24  2022    15    afternoon   \n",
       "222104964       21              STREET      1   25  2022    15    afternoon   \n",
       "\n",
       "               lat      long  labels  \n",
       "100104017  34.0453 -118.2651       0  \n",
       "100104019  34.0503 -118.2504       0  \n",
       "100104026  34.0371 -118.2551       0  \n",
       "100104126  34.0531 -118.2478       0  \n",
       "100104222  34.0396 -118.2558       0  \n",
       "...            ...       ...     ...  \n",
       "222104641  34.2194 -118.6235       0  \n",
       "222104668  34.1710 -118.5709       0  \n",
       "222104792  34.1658 -118.6008       0  \n",
       "222104874  34.1938 -118.6059       0  \n",
       "222104964  34.1658 -118.6008       0  \n",
       "\n",
       "[133413 rows x 10 columns]"
      ]
     },
     "execution_count": 40,
     "metadata": {},
     "output_type": "execute_result"
    }
   ],
   "source": [
    "l0"
   ]
  },
  {
   "cell_type": "code",
   "execution_count": null,
   "metadata": {},
   "outputs": [
    {
     "data": {
      "text/plain": [
       "array(['afternoon'], dtype=object)"
      ]
     },
     "execution_count": 41,
     "metadata": {},
     "output_type": "execute_result"
    }
   ],
   "source": [
    "l0.day_category.unique()"
   ]
  },
  {
   "cell_type": "markdown",
   "metadata": {},
   "source": [
    "## Now try removing day_category to see the results"
   ]
  },
  {
   "cell_type": "code",
   "execution_count": 13,
   "metadata": {},
   "outputs": [
    {
     "data": {
      "text/html": [
       "<div>\n",
       "<style scoped>\n",
       "    .dataframe tbody tr th:only-of-type {\n",
       "        vertical-align: middle;\n",
       "    }\n",
       "\n",
       "    .dataframe tbody tr th {\n",
       "        vertical-align: top;\n",
       "    }\n",
       "\n",
       "    .dataframe thead th {\n",
       "        text-align: right;\n",
       "    }\n",
       "</style>\n",
       "<table border=\"1\" class=\"dataframe\">\n",
       "  <thead>\n",
       "    <tr style=\"text-align: right;\">\n",
       "      <th></th>\n",
       "      <th>Area ID</th>\n",
       "      <th>Premise Description</th>\n",
       "      <th>month</th>\n",
       "      <th>day</th>\n",
       "      <th>year</th>\n",
       "      <th>hour</th>\n",
       "      <th>lat</th>\n",
       "      <th>long</th>\n",
       "    </tr>\n",
       "  </thead>\n",
       "  <tbody>\n",
       "    <tr>\n",
       "      <th>100100007</th>\n",
       "      <td>1</td>\n",
       "      <td>STREET</td>\n",
       "      <td>11</td>\n",
       "      <td>8</td>\n",
       "      <td>2010</td>\n",
       "      <td>22</td>\n",
       "      <td>34.0395</td>\n",
       "      <td>-118.2656</td>\n",
       "    </tr>\n",
       "    <tr>\n",
       "      <th>100100767</th>\n",
       "      <td>1</td>\n",
       "      <td>STREET</td>\n",
       "      <td>3</td>\n",
       "      <td>31</td>\n",
       "      <td>2010</td>\n",
       "      <td>4</td>\n",
       "      <td>34.0695</td>\n",
       "      <td>-118.2324</td>\n",
       "    </tr>\n",
       "    <tr>\n",
       "      <th>100100831</th>\n",
       "      <td>1</td>\n",
       "      <td>STREET</td>\n",
       "      <td>4</td>\n",
       "      <td>18</td>\n",
       "      <td>2010</td>\n",
       "      <td>1</td>\n",
       "      <td>34.0424</td>\n",
       "      <td>-118.2718</td>\n",
       "    </tr>\n",
       "    <tr>\n",
       "      <th>100101004</th>\n",
       "      <td>1</td>\n",
       "      <td>STREET</td>\n",
       "      <td>6</td>\n",
       "      <td>5</td>\n",
       "      <td>2010</td>\n",
       "      <td>20</td>\n",
       "      <td>34.0344</td>\n",
       "      <td>-118.2714</td>\n",
       "    </tr>\n",
       "    <tr>\n",
       "      <th>100101322</th>\n",
       "      <td>1</td>\n",
       "      <td>STREET</td>\n",
       "      <td>8</td>\n",
       "      <td>7</td>\n",
       "      <td>2010</td>\n",
       "      <td>16</td>\n",
       "      <td>34.0637</td>\n",
       "      <td>-118.2361</td>\n",
       "    </tr>\n",
       "  </tbody>\n",
       "</table>\n",
       "</div>"
      ],
      "text/plain": [
       "           Area ID Premise Description  month  day  year  hour      lat  \\\n",
       "100100007        1              STREET     11    8  2010    22  34.0395   \n",
       "100100767        1              STREET      3   31  2010     4  34.0695   \n",
       "100100831        1              STREET      4   18  2010     1  34.0424   \n",
       "100101004        1              STREET      6    5  2010    20  34.0344   \n",
       "100101322        1              STREET      8    7  2010    16  34.0637   \n",
       "\n",
       "               long  \n",
       "100100007 -118.2656  \n",
       "100100767 -118.2324  \n",
       "100100831 -118.2718  \n",
       "100101004 -118.2714  \n",
       "100101322 -118.2361  "
      ]
     },
     "execution_count": 13,
     "metadata": {},
     "output_type": "execute_result"
    }
   ],
   "source": [
    "data2 = data.drop(columns='day_category')\n",
    "data2.head()"
   ]
  },
  {
   "cell_type": "code",
   "execution_count": 19,
   "metadata": {},
   "outputs": [],
   "source": [
    "cat_cols = ['Area ID', 'Premise Description', 'month', 'day', 'year', 'hour']\n",
    "data_enc = pd.get_dummies(data2, columns=cat_cols)"
   ]
  },
  {
   "cell_type": "code",
   "execution_count": 20,
   "metadata": {},
   "outputs": [],
   "source": [
    "kmeans = KMeans(3)\n",
    "labels = kmeans.fit_predict(data_enc)\n",
    "data_labeled = data2.copy()\n",
    "\n",
    "data_labeled['label'] = labels\n"
   ]
  },
  {
   "cell_type": "code",
   "execution_count": 21,
   "metadata": {},
   "outputs": [],
   "source": [
    "c0 = data_labeled[data_labeled.label == 0]\n",
    "c1 = data_labeled[data_labeled.label == 1]\n",
    "c2 = data_labeled[data_labeled.label == 2]"
   ]
  },
  {
   "cell_type": "code",
   "execution_count": 22,
   "metadata": {},
   "outputs": [
    {
     "name": "stdout",
     "output_type": "stream",
     "text": [
      "Cluster: 0\n",
      "----------------\n",
      "Column: Area ID\n",
      "------------------------\n"
     ]
    },
    {
     "data": {
      "image/png": "[encoded data removed]",
      "text/plain": [
       "<Figure size 432x288 with 1 Axes>"
      ]
     },
     "metadata": {
      "needs_background": "light"
     },
     "output_type": "display_data"
    },
    {
     "name": "stdout",
     "output_type": "stream",
     "text": [
      "Column: Premise Description\n",
      "------------------------\n",
      "STREET                                  102312\n",
      "PARKING LOT                               2818\n",
      "SIDEWALK                                   448\n",
      "ALLEY                                      167\n",
      "DRIVEWAY                                   146\n",
      "                                         ...  \n",
      "NAIL SALON                                   1\n",
      "NURSING/CONVALESCENT/RETIREMENT HOME         1\n",
      "SLIPS/DOCK/MARINA/BOAT                       1\n",
      "TUNNEL                                       1\n",
      "HOTEL                                        1\n",
      "Name: Premise Description, Length: 63, dtype: int64\n",
      "Column: month\n",
      "------------------------\n"
     ]
    },
    {
     "data": {
      "image/png": "[encoded data removed]",
      "text/plain": [
       "<Figure size 432x288 with 1 Axes>"
      ]
     },
     "metadata": {
      "needs_background": "light"
     },
     "output_type": "display_data"
    },
    {
     "name": "stdout",
     "output_type": "stream",
     "text": [
      "Column: day\n",
      "------------------------\n"
     ]
    },
    {
     "data": {
      "image/png": "[encoded data removed]",
      "text/plain": [
       "<Figure size 432x288 with 1 Axes>"
      ]
     },
     "metadata": {
      "needs_background": "light"
     },
     "output_type": "display_data"
    },
    {
     "name": "stdout",
     "output_type": "stream",
     "text": [
      "Column: year\n",
      "------------------------\n"
     ]
    },
    {
     "data": {
      "image/png": "[encoded data removed]",
      "text/plain": [
       "<Figure size 432x288 with 1 Axes>"
      ]
     },
     "metadata": {
      "needs_background": "light"
     },
     "output_type": "display_data"
    },
    {
     "name": "stdout",
     "output_type": "stream",
     "text": [
      "Column: hour\n",
      "------------------------\n"
     ]
    },
    {
     "data": {
      "image/png": "[encoded data removed]",
      "text/plain": [
       "<Figure size 432x288 with 1 Axes>"
      ]
     },
     "metadata": {
      "needs_background": "light"
     },
     "output_type": "display_data"
    },
    {
     "name": "stdout",
     "output_type": "stream",
     "text": [
      "Column: lat\n",
      "------------------------\n"
     ]
    },
    {
     "data": {
      "image/png": "[encoded data removed]",
      "text/plain": [
       "<Figure size 432x288 with 1 Axes>"
      ]
     },
     "metadata": {
      "needs_background": "light"
     },
     "output_type": "display_data"
    },
    {
     "name": "stdout",
     "output_type": "stream",
     "text": [
      "Column: long\n",
      "------------------------\n"
     ]
    },
    {
     "data": {
      "image/png": "[encoded data removed]",
      "text/plain": [
       "<Figure size 432x288 with 1 Axes>"
      ]
     },
     "metadata": {
      "needs_background": "light"
     },
     "output_type": "display_data"
    },
    {
     "name": "stdout",
     "output_type": "stream",
     "text": [
      "Column: label\n",
      "------------------------\n",
      "Cluster: 1\n",
      "----------------\n",
      "Column: Area ID\n",
      "------------------------\n"
     ]
    },
    {
     "data": {
      "image/png": "[encoded data removed]",
      "text/plain": [
       "<Figure size 432x288 with 1 Axes>"
      ]
     },
     "metadata": {
      "needs_background": "light"
     },
     "output_type": "display_data"
    },
    {
     "name": "stdout",
     "output_type": "stream",
     "text": [
      "Column: Premise Description\n",
      "------------------------\n",
      "STREET                                                       345044\n",
      "PARKING LOT                                                   11890\n",
      "SIDEWALK                                                       2097\n",
      "ALLEY                                                           683\n",
      "DRIVEWAY                                                        638\n",
      "                                                              ...  \n",
      "TV/RADIO/APPLIANCE                                                1\n",
      "MOBILE HOME/TRAILERS/CONSTRUCTION TRAILERS/RV'S/MOTORHOME         1\n",
      "BUS, SCHOOL, CHURCH                                               1\n",
      "LIBRARY                                                           1\n",
      "AUTO REPAIR SHOP                                                  1\n",
      "Name: Premise Description, Length: 99, dtype: int64\n",
      "Column: month\n",
      "------------------------\n"
     ]
    },
    {
     "data": {
      "image/png": "[encoded data removed]",
      "text/plain": [
       "<Figure size 432x288 with 1 Axes>"
      ]
     },
     "metadata": {
      "needs_background": "light"
     },
     "output_type": "display_data"
    },
    {
     "name": "stdout",
     "output_type": "stream",
     "text": [
      "Column: day\n",
      "------------------------\n"
     ]
    },
    {
     "data": {
      "image/png": "[encoded data removed]",
      "text/plain": [
       "<Figure size 432x288 with 1 Axes>"
      ]
     },
     "metadata": {
      "needs_background": "light"
     },
     "output_type": "display_data"
    },
    {
     "name": "stdout",
     "output_type": "stream",
     "text": [
      "Column: year\n",
      "------------------------\n"
     ]
    },
    {
     "data": {
      "image/png": "[encoded data removed]",
      "text/plain": [
       "<Figure size 432x288 with 1 Axes>"
      ]
     },
     "metadata": {
      "needs_background": "light"
     },
     "output_type": "display_data"
    },
    {
     "name": "stdout",
     "output_type": "stream",
     "text": [
      "Column: hour\n",
      "------------------------\n"
     ]
    },
    {
     "data": {
      "image/png": "[encoded data removed]",
      "text/plain": [
       "<Figure size 432x288 with 1 Axes>"
      ]
     },
     "metadata": {
      "needs_background": "light"
     },
     "output_type": "display_data"
    },
    {
     "name": "stdout",
     "output_type": "stream",
     "text": [
      "Column: lat\n",
      "------------------------\n"
     ]
    },
    {
     "data": {
      "image/png": "[encoded data removed]",
      "text/plain": [
       "<Figure size 432x288 with 1 Axes>"
      ]
     },
     "metadata": {
      "needs_background": "light"
     },
     "output_type": "display_data"
    },
    {
     "name": "stdout",
     "output_type": "stream",
     "text": [
      "Column: long\n",
      "------------------------\n"
     ]
    },
    {
     "data": {
      "image/png": "[encoded data removed]",
      "text/plain": [
       "<Figure size 432x288 with 1 Axes>"
      ]
     },
     "metadata": {
      "needs_background": "light"
     },
     "output_type": "display_data"
    },
    {
     "name": "stdout",
     "output_type": "stream",
     "text": [
      "Column: label\n",
      "------------------------\n",
      "Cluster: 2\n",
      "----------------\n",
      "Column: Area ID\n",
      "------------------------\n"
     ]
    },
    {
     "data": {
      "image/png": "[encoded data removed]",
      "text/plain": [
       "<Figure size 432x288 with 1 Axes>"
      ]
     },
     "metadata": {
      "needs_background": "light"
     },
     "output_type": "display_data"
    },
    {
     "name": "stdout",
     "output_type": "stream",
     "text": [
      "Column: Premise Description\n",
      "------------------------\n",
      "STREET              95902\n",
      "PARKING LOT          3312\n",
      "SIDEWALK              511\n",
      "                      375\n",
      "DRIVEWAY              195\n",
      "                    ...  \n",
      "METROLINK TRAIN         1\n",
      "DEPARTMENT STORE        1\n",
      "MINI-MART               1\n",
      "CLOTHING STORE          1\n",
      "OTHER RESIDENCE         1\n",
      "Name: Premise Description, Length: 64, dtype: int64\n",
      "Column: month\n",
      "------------------------\n"
     ]
    },
    {
     "data": {
      "image/png": "[encoded data removed]",
      "text/plain": [
       "<Figure size 432x288 with 1 Axes>"
      ]
     },
     "metadata": {
      "needs_background": "light"
     },
     "output_type": "display_data"
    },
    {
     "name": "stdout",
     "output_type": "stream",
     "text": [
      "Column: day\n",
      "------------------------\n"
     ]
    },
    {
     "data": {
      "image/png": "[encoded data removed]",
      "text/plain": [
       "<Figure size 432x288 with 1 Axes>"
      ]
     },
     "metadata": {
      "needs_background": "light"
     },
     "output_type": "display_data"
    },
    {
     "name": "stdout",
     "output_type": "stream",
     "text": [
      "Column: year\n",
      "------------------------\n"
     ]
    },
    {
     "data": {
      "image/png": "[encoded data removed]",
      "text/plain": [
       "<Figure size 432x288 with 1 Axes>"
      ]
     },
     "metadata": {
      "needs_background": "light"
     },
     "output_type": "display_data"
    },
    {
     "name": "stdout",
     "output_type": "stream",
     "text": [
      "Column: hour\n",
      "------------------------\n"
     ]
    },
    {
     "data": {
      "image/png": "[encoded data removed]",
      "text/plain": [
       "<Figure size 432x288 with 1 Axes>"
      ]
     },
     "metadata": {
      "needs_background": "light"
     },
     "output_type": "display_data"
    },
    {
     "name": "stdout",
     "output_type": "stream",
     "text": [
      "Column: lat\n",
      "------------------------\n"
     ]
    },
    {
     "data": {
      "image/png": "[encoded data removed]",
      "text/plain": [
       "<Figure size 432x288 with 1 Axes>"
      ]
     },
     "metadata": {
      "needs_background": "light"
     },
     "output_type": "display_data"
    },
    {
     "name": "stdout",
     "output_type": "stream",
     "text": [
      "Column: long\n",
      "------------------------\n"
     ]
    },
    {
     "data": {
      "image/png": "[encoded data removed]",
      "text/plain": [
       "<Figure size 432x288 with 1 Axes>"
      ]
     },
     "metadata": {
      "needs_background": "light"
     },
     "output_type": "display_data"
    },
    {
     "name": "stdout",
     "output_type": "stream",
     "text": [
      "Column: label\n",
      "------------------------\n"
     ]
    }
   ],
   "source": [
    "clusters = [c0, c1, c2]\n",
    "for i, cluster in enumerate(clusters):\n",
    "    print(f'Cluster: {i}')\n",
    "    print('----------------')\n",
    "    for col in cluster.columns:\n",
    "        print(f'Column: {col}')\n",
    "        print('------------------------')\n",
    "        if col == 'Premise Description':\n",
    "            print(cluster[col].value_counts())\n",
    "        \n",
    "        elif col == 'label':\n",
    "            pass\n",
    "        \n",
    "        else:\n",
    "            examine_labels(cluster, col)"
   ]
  },
  {
   "cell_type": "code",
   "execution_count": null,
   "metadata": {},
   "outputs": [],
   "source": []
  },
  {
   "cell_type": "code",
   "execution_count": null,
   "metadata": {},
   "outputs": [],
   "source": []
  }
 ],
 "metadata": {
  "interpreter": {
   "hash": "434f2d4492ee23c6b54d5d95fb30abd565c5424b4769cc63277e86306b83f2fa"
  },
  "kernelspec": {
   "display_name": "Python 3.8.3 ('base')",
   "language": "python",
   "name": "python3"
  },
  "language_info": {
   "codemirror_mode": {
    "name": "ipython",
    "version": 3
   },
   "file_extension": ".py",
   "mimetype": "text/x-python",
   "name": "python",
   "nbconvert_exporter": "python",
   "pygments_lexer": "ipython3",
   "version": "3.8.3"
  },
  "orig_nbformat": 4
 },
 "nbformat": 4,
 "nbformat_minor": 2
}
