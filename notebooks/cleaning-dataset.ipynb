{
 "cells": [
  {
   "cell_type": "markdown",
   "id": "57e96df5-a415-4f92-a9bd-f4e91709ad89",
   "metadata": {},
   "source": [
    "Dataset Focus: We would like to be able to cluster these accidents based on pertinent variables. Since we do not have data for both our labels of interest (i.e. accident or not), we will be performing unsupervised learning to try to group similar conditions together."
   ]
  },
  {
   "cell_type": "code",
   "execution_count": 3,
   "id": "f28fe89c-c91a-4626-a3a1-e25b890ae58f",
   "metadata": {},
   "outputs": [],
   "source": [
    "import pandas as pd\n",
    "import numpy as np\n",
    "\n",
    "import seaborn as sns"
   ]
  },
  {
   "cell_type": "code",
   "execution_count": 4,
   "id": "625863f7-8689-4984-916f-36553b713e1d",
   "metadata": {},
   "outputs": [],
   "source": [
    "data = pd.read_csv('../data/Traffic_Collision_Data_from_2010_to_Present.csv')"
   ]
  },
  {
   "cell_type": "code",
   "execution_count": 5,
   "id": "d8cf3831-2876-4619-9c37-b113df52da63",
   "metadata": {},
   "outputs": [
    {
     "data": {
      "text/html": [
       "<div>\n",
       "<style scoped>\n",
       "    .dataframe tbody tr th:only-of-type {\n",
       "        vertical-align: middle;\n",
       "    }\n",
       "\n",
       "    .dataframe tbody tr th {\n",
       "        vertical-align: top;\n",
       "    }\n",
       "\n",
       "    .dataframe thead th {\n",
       "        text-align: right;\n",
       "    }\n",
       "</style>\n",
       "<table border=\"1\" class=\"dataframe\">\n",
       "  <thead>\n",
       "    <tr style=\"text-align: right;\">\n",
       "      <th></th>\n",
       "      <th>DR Number</th>\n",
       "      <th>Date Reported</th>\n",
       "      <th>Date Occurred</th>\n",
       "      <th>Time Occurred</th>\n",
       "      <th>Area ID</th>\n",
       "      <th>Area Name</th>\n",
       "      <th>Reporting District</th>\n",
       "      <th>Crime Code</th>\n",
       "      <th>Crime Code Description</th>\n",
       "      <th>MO Codes</th>\n",
       "      <th>Victim Age</th>\n",
       "      <th>Victim Sex</th>\n",
       "      <th>Victim Descent</th>\n",
       "      <th>Premise Code</th>\n",
       "      <th>Premise Description</th>\n",
       "      <th>Address</th>\n",
       "      <th>Cross Street</th>\n",
       "      <th>Location</th>\n",
       "    </tr>\n",
       "  </thead>\n",
       "  <tbody>\n",
       "    <tr>\n",
       "      <th>0</th>\n",
       "      <td>190319651</td>\n",
       "      <td>08/24/2019</td>\n",
       "      <td>08/24/2019</td>\n",
       "      <td>450</td>\n",
       "      <td>3</td>\n",
       "      <td>Southwest</td>\n",
       "      <td>356</td>\n",
       "      <td>997</td>\n",
       "      <td>TRAFFIC COLLISION</td>\n",
       "      <td>3036 3004 3026 3101 4003</td>\n",
       "      <td>22.0</td>\n",
       "      <td>M</td>\n",
       "      <td>H</td>\n",
       "      <td>101.0</td>\n",
       "      <td>STREET</td>\n",
       "      <td>JEFFERSON                    BL</td>\n",
       "      <td>NORMANDIE                    AV</td>\n",
       "      <td>(34.0255, -118.3002)</td>\n",
       "    </tr>\n",
       "    <tr>\n",
       "      <th>1</th>\n",
       "      <td>190319680</td>\n",
       "      <td>08/30/2019</td>\n",
       "      <td>08/30/2019</td>\n",
       "      <td>2320</td>\n",
       "      <td>3</td>\n",
       "      <td>Southwest</td>\n",
       "      <td>355</td>\n",
       "      <td>997</td>\n",
       "      <td>TRAFFIC COLLISION</td>\n",
       "      <td>3037 3006 3028 3030 3039 3101 4003</td>\n",
       "      <td>30.0</td>\n",
       "      <td>F</td>\n",
       "      <td>H</td>\n",
       "      <td>101.0</td>\n",
       "      <td>STREET</td>\n",
       "      <td>JEFFERSON                    BL</td>\n",
       "      <td>W  WESTERN</td>\n",
       "      <td>(34.0256, -118.3089)</td>\n",
       "    </tr>\n",
       "    <tr>\n",
       "      <th>2</th>\n",
       "      <td>190413769</td>\n",
       "      <td>08/25/2019</td>\n",
       "      <td>08/25/2019</td>\n",
       "      <td>545</td>\n",
       "      <td>4</td>\n",
       "      <td>Hollenbeck</td>\n",
       "      <td>422</td>\n",
       "      <td>997</td>\n",
       "      <td>TRAFFIC COLLISION</td>\n",
       "      <td>3101 3401 3701 3006 3030</td>\n",
       "      <td>NaN</td>\n",
       "      <td>M</td>\n",
       "      <td>X</td>\n",
       "      <td>101.0</td>\n",
       "      <td>STREET</td>\n",
       "      <td>N  BROADWAY</td>\n",
       "      <td>W  EASTLAKE                     AV</td>\n",
       "      <td>(34.0738, -118.2078)</td>\n",
       "    </tr>\n",
       "    <tr>\n",
       "      <th>3</th>\n",
       "      <td>190127578</td>\n",
       "      <td>11/20/2019</td>\n",
       "      <td>11/20/2019</td>\n",
       "      <td>350</td>\n",
       "      <td>1</td>\n",
       "      <td>Central</td>\n",
       "      <td>128</td>\n",
       "      <td>997</td>\n",
       "      <td>TRAFFIC COLLISION</td>\n",
       "      <td>0605 3101 3401 3701 3011 3034</td>\n",
       "      <td>21.0</td>\n",
       "      <td>M</td>\n",
       "      <td>H</td>\n",
       "      <td>101.0</td>\n",
       "      <td>STREET</td>\n",
       "      <td>1ST</td>\n",
       "      <td>CENTRAL</td>\n",
       "      <td>(34.0492, -118.2391)</td>\n",
       "    </tr>\n",
       "    <tr>\n",
       "      <th>4</th>\n",
       "      <td>190319695</td>\n",
       "      <td>08/30/2019</td>\n",
       "      <td>08/30/2019</td>\n",
       "      <td>2100</td>\n",
       "      <td>3</td>\n",
       "      <td>Southwest</td>\n",
       "      <td>374</td>\n",
       "      <td>997</td>\n",
       "      <td>TRAFFIC COLLISION</td>\n",
       "      <td>0605 4025 3037 3004 3025 3101</td>\n",
       "      <td>49.0</td>\n",
       "      <td>M</td>\n",
       "      <td>B</td>\n",
       "      <td>101.0</td>\n",
       "      <td>STREET</td>\n",
       "      <td>MARTIN LUTHER KING JR</td>\n",
       "      <td>ARLINGTON                    AV</td>\n",
       "      <td>(34.0108, -118.3182)</td>\n",
       "    </tr>\n",
       "  </tbody>\n",
       "</table>\n",
       "</div>"
      ],
      "text/plain": [
       "   DR Number Date Reported Date Occurred  Time Occurred  Area ID   Area Name  \\\n",
       "0  190319651    08/24/2019    08/24/2019            450        3   Southwest   \n",
       "1  190319680    08/30/2019    08/30/2019           2320        3   Southwest   \n",
       "2  190413769    08/25/2019    08/25/2019            545        4  Hollenbeck   \n",
       "3  190127578    11/20/2019    11/20/2019            350        1     Central   \n",
       "4  190319695    08/30/2019    08/30/2019           2100        3   Southwest   \n",
       "\n",
       "   Reporting District  Crime Code Crime Code Description  \\\n",
       "0                 356         997      TRAFFIC COLLISION   \n",
       "1                 355         997      TRAFFIC COLLISION   \n",
       "2                 422         997      TRAFFIC COLLISION   \n",
       "3                 128         997      TRAFFIC COLLISION   \n",
       "4                 374         997      TRAFFIC COLLISION   \n",
       "\n",
       "                             MO Codes  Victim Age Victim Sex Victim Descent  \\\n",
       "0            3036 3004 3026 3101 4003        22.0          M              H   \n",
       "1  3037 3006 3028 3030 3039 3101 4003        30.0          F              H   \n",
       "2            3101 3401 3701 3006 3030         NaN          M              X   \n",
       "3       0605 3101 3401 3701 3011 3034        21.0          M              H   \n",
       "4       0605 4025 3037 3004 3025 3101        49.0          M              B   \n",
       "\n",
       "   Premise Code Premise Description                          Address  \\\n",
       "0         101.0              STREET  JEFFERSON                    BL   \n",
       "1         101.0              STREET  JEFFERSON                    BL   \n",
       "2         101.0              STREET                      N  BROADWAY   \n",
       "3         101.0              STREET                              1ST   \n",
       "4         101.0              STREET            MARTIN LUTHER KING JR   \n",
       "\n",
       "                         Cross Street              Location  \n",
       "0     NORMANDIE                    AV  (34.0255, -118.3002)  \n",
       "1                          W  WESTERN  (34.0256, -118.3089)  \n",
       "2  W  EASTLAKE                     AV  (34.0738, -118.2078)  \n",
       "3                             CENTRAL  (34.0492, -118.2391)  \n",
       "4     ARLINGTON                    AV  (34.0108, -118.3182)  "
      ]
     },
     "execution_count": 5,
     "metadata": {},
     "output_type": "execute_result"
    }
   ],
   "source": [
    "data.head()"
   ]
  },
  {
   "cell_type": "code",
   "execution_count": 6,
   "id": "30f5bcac-a028-4bcf-8ddc-256553c344da",
   "metadata": {},
   "outputs": [
    {
     "data": {
      "text/plain": [
       "(570372, 18)"
      ]
     },
     "execution_count": 6,
     "metadata": {},
     "output_type": "execute_result"
    }
   ],
   "source": [
    "data.shape  # 18 columns and over 500k observations"
   ]
  },
  {
   "cell_type": "code",
   "execution_count": 7,
   "id": "4a7fb01a-b594-4aac-b7bd-1a446a5be71b",
   "metadata": {},
   "outputs": [],
   "source": [
    "# Convert column names into something that is easier to work with (add underscores)\\\n",
    "for col in data.columns:\n",
    "    tmp = ('_').join(col.lower().split())\n",
    "    data.rename(columns={col: tmp}, inplace=True)"
   ]
  },
  {
   "cell_type": "code",
   "execution_count": 8,
   "id": "1aee7b29-ae36-4959-a7e3-bc4a98818daf",
   "metadata": {},
   "outputs": [
    {
     "data": {
      "text/plain": [
       "Index(['dr_number', 'date_reported', 'date_occurred', 'time_occurred',\n",
       "       'area_id', 'area_name', 'reporting_district', 'crime_code',\n",
       "       'crime_code_description', 'mo_codes', 'victim_age', 'victim_sex',\n",
       "       'victim_descent', 'premise_code', 'premise_description', 'address',\n",
       "       'cross_street', 'location'],\n",
       "      dtype='object')"
      ]
     },
     "execution_count": 8,
     "metadata": {},
     "output_type": "execute_result"
    }
   ],
   "source": [
    "data.columns"
   ]
  },
  {
   "cell_type": "code",
   "execution_count": 89,
   "id": "7bbb7fd4-86bc-4bdb-b559-23c9ce230fcc",
   "metadata": {},
   "outputs": [
    {
     "name": "stdout",
     "output_type": "stream",
     "text": [
      "<class 'pandas.core.frame.DataFrame'>\n",
      "RangeIndex: 570372 entries, 0 to 570371\n",
      "Data columns (total 18 columns):\n",
      " #   Column                  Non-Null Count   Dtype  \n",
      "---  ------                  --------------   -----  \n",
      " 0   dr_number               570372 non-null  int64  \n",
      " 1   date_reported           570372 non-null  object \n",
      " 2   date_occurred           570372 non-null  object \n",
      " 3   time_occurred           570372 non-null  int64  \n",
      " 4   area_id                 570372 non-null  int64  \n",
      " 5   area_name               570372 non-null  object \n",
      " 6   reporting_district      570372 non-null  int64  \n",
      " 7   crime_code              570372 non-null  int64  \n",
      " 8   crime_code_description  570372 non-null  object \n",
      " 9   mo_codes                483387 non-null  object \n",
      " 10  victim_age              487109 non-null  float64\n",
      " 11  victim_sex              561234 non-null  object \n",
      " 12  victim_descent          560341 non-null  object \n",
      " 13  premise_code            569410 non-null  float64\n",
      " 14  premise_description     569409 non-null  object \n",
      " 15  address                 570372 non-null  object \n",
      " 16  cross_street            543148 non-null  object \n",
      " 17  location                570372 non-null  object \n",
      "dtypes: float64(2), int64(5), object(11)\n",
      "memory usage: 78.3+ MB\n"
     ]
    }
   ],
   "source": [
    "data.info()"
   ]
  },
  {
   "cell_type": "code",
   "execution_count": 90,
   "id": "dc791ea2-4b17-44b8-a47d-871755ff60b6",
   "metadata": {},
   "outputs": [],
   "source": [
    "date_cols = ['date_reported', 'date_occurred'] #'time_occurred'] \n",
    "\n",
    "for col in date_cols:\n",
    "    data[col] = pd.to_datetime(data[col])"
   ]
  },
  {
   "cell_type": "code",
   "execution_count": 91,
   "id": "a53ee3b1-e1c7-4247-9764-5817083c1d24",
   "metadata": {},
   "outputs": [
    {
     "name": "stdout",
     "output_type": "stream",
     "text": [
      "<class 'pandas.core.frame.DataFrame'>\n",
      "RangeIndex: 570372 entries, 0 to 570371\n",
      "Data columns (total 18 columns):\n",
      " #   Column                  Non-Null Count   Dtype         \n",
      "---  ------                  --------------   -----         \n",
      " 0   dr_number               570372 non-null  int64         \n",
      " 1   date_reported           570372 non-null  datetime64[ns]\n",
      " 2   date_occurred           570372 non-null  datetime64[ns]\n",
      " 3   time_occurred           570372 non-null  int64         \n",
      " 4   area_id                 570372 non-null  int64         \n",
      " 5   area_name               570372 non-null  object        \n",
      " 6   reporting_district      570372 non-null  int64         \n",
      " 7   crime_code              570372 non-null  int64         \n",
      " 8   crime_code_description  570372 non-null  object        \n",
      " 9   mo_codes                483387 non-null  object        \n",
      " 10  victim_age              487109 non-null  float64       \n",
      " 11  victim_sex              561234 non-null  object        \n",
      " 12  victim_descent          560341 non-null  object        \n",
      " 13  premise_code            569410 non-null  float64       \n",
      " 14  premise_description     569409 non-null  object        \n",
      " 15  address                 570372 non-null  object        \n",
      " 16  cross_street            543148 non-null  object        \n",
      " 17  location                570372 non-null  object        \n",
      "dtypes: datetime64[ns](2), float64(2), int64(5), object(9)\n",
      "memory usage: 78.3+ MB\n"
     ]
    }
   ],
   "source": [
    "data.info()"
   ]
  },
  {
   "cell_type": "code",
   "execution_count": 95,
   "id": "bad6996a-8cef-4987-9738-9cfcb91d1954",
   "metadata": {},
   "outputs": [
    {
     "data": {
      "text/plain": [
       "dr_number                     0\n",
       "date_reported                 0\n",
       "date_occurred                 0\n",
       "time_occurred                 0\n",
       "area_id                       0\n",
       "area_name                     0\n",
       "reporting_district            0\n",
       "crime_code                    0\n",
       "crime_code_description        0\n",
       "mo_codes                  86985\n",
       "victim_age                83263\n",
       "victim_sex                 9138\n",
       "victim_descent            10031\n",
       "premise_code                962\n",
       "premise_description         963\n",
       "address                       0\n",
       "cross_street              27224\n",
       "location                      0\n",
       "dtype: int64"
      ]
     },
     "execution_count": 95,
     "metadata": {},
     "output_type": "execute_result"
    }
   ],
   "source": [
    "data.isnull().sum()  # Number of NaN values for each variable"
   ]
  },
  {
   "cell_type": "code",
   "execution_count": 92,
   "id": "48f77d5b-d56f-4e0c-82a5-340850274451",
   "metadata": {},
   "outputs": [
    {
     "data": {
      "text/plain": [
       "(1, 2359)"
      ]
     },
     "execution_count": 92,
     "metadata": {},
     "output_type": "execute_result"
    }
   ],
   "source": [
    "data['time_occurred'].min(), data['time_occurred'].max()  # follows 24 hr clock"
   ]
  },
  {
   "cell_type": "markdown",
   "id": "3235253a-f090-4a50-b097-389b902073ba",
   "metadata": {},
   "source": [
    "## EDA"
   ]
  },
  {
   "cell_type": "code",
   "execution_count": 93,
   "id": "4a0400fc-2360-42d3-8356-46d3db558dfd",
   "metadata": {
    "tags": []
   },
   "outputs": [
    {
     "data": {
      "text/html": [
       "<div>\n",
       "<style scoped>\n",
       "    .dataframe tbody tr th:only-of-type {\n",
       "        vertical-align: middle;\n",
       "    }\n",
       "\n",
       "    .dataframe tbody tr th {\n",
       "        vertical-align: top;\n",
       "    }\n",
       "\n",
       "    .dataframe thead th {\n",
       "        text-align: right;\n",
       "    }\n",
       "</style>\n",
       "<table border=\"1\" class=\"dataframe\">\n",
       "  <thead>\n",
       "    <tr style=\"text-align: right;\">\n",
       "      <th></th>\n",
       "      <th>dr_number</th>\n",
       "      <th>time_occurred</th>\n",
       "      <th>area_id</th>\n",
       "      <th>reporting_district</th>\n",
       "      <th>crime_code</th>\n",
       "      <th>victim_age</th>\n",
       "      <th>premise_code</th>\n",
       "    </tr>\n",
       "  </thead>\n",
       "  <tbody>\n",
       "    <tr>\n",
       "      <th>count</th>\n",
       "      <td>5.703720e+05</td>\n",
       "      <td>570372.000000</td>\n",
       "      <td>570372.000000</td>\n",
       "      <td>570372.000000</td>\n",
       "      <td>570372.0</td>\n",
       "      <td>487109.000000</td>\n",
       "      <td>569410.000000</td>\n",
       "    </tr>\n",
       "    <tr>\n",
       "      <th>mean</th>\n",
       "      <td>1.550780e+08</td>\n",
       "      <td>1356.473943</td>\n",
       "      <td>11.081726</td>\n",
       "      <td>1154.145354</td>\n",
       "      <td>997.0</td>\n",
       "      <td>41.230755</td>\n",
       "      <td>102.432546</td>\n",
       "    </tr>\n",
       "    <tr>\n",
       "      <th>std</th>\n",
       "      <td>3.216413e+07</td>\n",
       "      <td>598.677049</td>\n",
       "      <td>5.875726</td>\n",
       "      <td>588.751853</td>\n",
       "      <td>0.0</td>\n",
       "      <td>16.390919</td>\n",
       "      <td>23.451665</td>\n",
       "    </tr>\n",
       "    <tr>\n",
       "      <th>min</th>\n",
       "      <td>1.001000e+08</td>\n",
       "      <td>1.000000</td>\n",
       "      <td>1.000000</td>\n",
       "      <td>100.000000</td>\n",
       "      <td>997.0</td>\n",
       "      <td>10.000000</td>\n",
       "      <td>101.000000</td>\n",
       "    </tr>\n",
       "    <tr>\n",
       "      <th>25%</th>\n",
       "      <td>1.304141e+08</td>\n",
       "      <td>930.000000</td>\n",
       "      <td>6.000000</td>\n",
       "      <td>666.000000</td>\n",
       "      <td>997.0</td>\n",
       "      <td>28.000000</td>\n",
       "      <td>101.000000</td>\n",
       "    </tr>\n",
       "    <tr>\n",
       "      <th>50%</th>\n",
       "      <td>1.603106e+08</td>\n",
       "      <td>1430.000000</td>\n",
       "      <td>11.000000</td>\n",
       "      <td>1162.000000</td>\n",
       "      <td>997.0</td>\n",
       "      <td>38.000000</td>\n",
       "      <td>101.000000</td>\n",
       "    </tr>\n",
       "    <tr>\n",
       "      <th>75%</th>\n",
       "      <td>1.813112e+08</td>\n",
       "      <td>1820.000000</td>\n",
       "      <td>16.000000</td>\n",
       "      <td>1653.000000</td>\n",
       "      <td>997.0</td>\n",
       "      <td>51.000000</td>\n",
       "      <td>101.000000</td>\n",
       "    </tr>\n",
       "    <tr>\n",
       "      <th>max</th>\n",
       "      <td>2.221050e+08</td>\n",
       "      <td>2359.000000</td>\n",
       "      <td>21.000000</td>\n",
       "      <td>2199.000000</td>\n",
       "      <td>997.0</td>\n",
       "      <td>99.000000</td>\n",
       "      <td>970.000000</td>\n",
       "    </tr>\n",
       "  </tbody>\n",
       "</table>\n",
       "</div>"
      ],
      "text/plain": [
       "          dr_number  time_occurred        area_id  reporting_district  \\\n",
       "count  5.703720e+05  570372.000000  570372.000000       570372.000000   \n",
       "mean   1.550780e+08    1356.473943      11.081726         1154.145354   \n",
       "std    3.216413e+07     598.677049       5.875726          588.751853   \n",
       "min    1.001000e+08       1.000000       1.000000          100.000000   \n",
       "25%    1.304141e+08     930.000000       6.000000          666.000000   \n",
       "50%    1.603106e+08    1430.000000      11.000000         1162.000000   \n",
       "75%    1.813112e+08    1820.000000      16.000000         1653.000000   \n",
       "max    2.221050e+08    2359.000000      21.000000         2199.000000   \n",
       "\n",
       "       crime_code     victim_age   premise_code  \n",
       "count    570372.0  487109.000000  569410.000000  \n",
       "mean        997.0      41.230755     102.432546  \n",
       "std           0.0      16.390919      23.451665  \n",
       "min         997.0      10.000000     101.000000  \n",
       "25%         997.0      28.000000     101.000000  \n",
       "50%         997.0      38.000000     101.000000  \n",
       "75%         997.0      51.000000     101.000000  \n",
       "max         997.0      99.000000     970.000000  "
      ]
     },
     "execution_count": 93,
     "metadata": {},
     "output_type": "execute_result"
    }
   ],
   "source": [
    "data.describe()"
   ]
  },
  {
   "cell_type": "markdown",
   "id": "216db8e1-eb20-4341-a32c-cbf11629b853",
   "metadata": {},
   "source": [
    "Based on these results we can drop crime_code as they all have the same value, and will not be distinguishing/predictive."
   ]
  },
  {
   "cell_type": "code",
   "execution_count": 96,
   "id": "194a94dc-a92e-4dac-9f96-940816d2de59",
   "metadata": {},
   "outputs": [],
   "source": [
    "data.drop(columns='crime_code', inplace=True)"
   ]
  },
  {
   "cell_type": "code",
   "execution_count": 98,
   "id": "ac2ad2bc-496b-4808-a4fc-375a63195370",
   "metadata": {},
   "outputs": [
    {
     "data": {
      "text/html": [
       "<div>\n",
       "<style scoped>\n",
       "    .dataframe tbody tr th:only-of-type {\n",
       "        vertical-align: middle;\n",
       "    }\n",
       "\n",
       "    .dataframe tbody tr th {\n",
       "        vertical-align: top;\n",
       "    }\n",
       "\n",
       "    .dataframe thead th {\n",
       "        text-align: right;\n",
       "    }\n",
       "</style>\n",
       "<table border=\"1\" class=\"dataframe\">\n",
       "  <thead>\n",
       "    <tr style=\"text-align: right;\">\n",
       "      <th></th>\n",
       "      <th>dr_number</th>\n",
       "      <th>time_occurred</th>\n",
       "      <th>area_id</th>\n",
       "      <th>reporting_district</th>\n",
       "      <th>victim_age</th>\n",
       "      <th>premise_code</th>\n",
       "    </tr>\n",
       "  </thead>\n",
       "  <tbody>\n",
       "    <tr>\n",
       "      <th>dr_number</th>\n",
       "      <td>1.000000</td>\n",
       "      <td>0.006642</td>\n",
       "      <td>0.022624</td>\n",
       "      <td>0.022209</td>\n",
       "      <td>-0.024146</td>\n",
       "      <td>-0.001113</td>\n",
       "    </tr>\n",
       "    <tr>\n",
       "      <th>time_occurred</th>\n",
       "      <td>0.006642</td>\n",
       "      <td>1.000000</td>\n",
       "      <td>0.010771</td>\n",
       "      <td>0.010899</td>\n",
       "      <td>-0.023836</td>\n",
       "      <td>-0.002825</td>\n",
       "    </tr>\n",
       "    <tr>\n",
       "      <th>area_id</th>\n",
       "      <td>0.022624</td>\n",
       "      <td>0.010771</td>\n",
       "      <td>1.000000</td>\n",
       "      <td>0.998925</td>\n",
       "      <td>0.009347</td>\n",
       "      <td>0.003122</td>\n",
       "    </tr>\n",
       "    <tr>\n",
       "      <th>reporting_district</th>\n",
       "      <td>0.022209</td>\n",
       "      <td>0.010899</td>\n",
       "      <td>0.998925</td>\n",
       "      <td>1.000000</td>\n",
       "      <td>0.009560</td>\n",
       "      <td>0.003242</td>\n",
       "    </tr>\n",
       "    <tr>\n",
       "      <th>victim_age</th>\n",
       "      <td>-0.024146</td>\n",
       "      <td>-0.023836</td>\n",
       "      <td>0.009347</td>\n",
       "      <td>0.009560</td>\n",
       "      <td>1.000000</td>\n",
       "      <td>0.009254</td>\n",
       "    </tr>\n",
       "    <tr>\n",
       "      <th>premise_code</th>\n",
       "      <td>-0.001113</td>\n",
       "      <td>-0.002825</td>\n",
       "      <td>0.003122</td>\n",
       "      <td>0.003242</td>\n",
       "      <td>0.009254</td>\n",
       "      <td>1.000000</td>\n",
       "    </tr>\n",
       "  </tbody>\n",
       "</table>\n",
       "</div>"
      ],
      "text/plain": [
       "                    dr_number  time_occurred   area_id  reporting_district  \\\n",
       "dr_number            1.000000       0.006642  0.022624            0.022209   \n",
       "time_occurred        0.006642       1.000000  0.010771            0.010899   \n",
       "area_id              0.022624       0.010771  1.000000            0.998925   \n",
       "reporting_district   0.022209       0.010899  0.998925            1.000000   \n",
       "victim_age          -0.024146      -0.023836  0.009347            0.009560   \n",
       "premise_code        -0.001113      -0.002825  0.003122            0.003242   \n",
       "\n",
       "                    victim_age  premise_code  \n",
       "dr_number            -0.024146     -0.001113  \n",
       "time_occurred        -0.023836     -0.002825  \n",
       "area_id               0.009347      0.003122  \n",
       "reporting_district    0.009560      0.003242  \n",
       "victim_age            1.000000      0.009254  \n",
       "premise_code          0.009254      1.000000  "
      ]
     },
     "execution_count": 98,
     "metadata": {},
     "output_type": "execute_result"
    }
   ],
   "source": [
    "data.corr()"
   ]
  },
  {
   "cell_type": "markdown",
   "id": "19fc0268-0e96-473a-84a5-efb7badca76e",
   "metadata": {},
   "source": [
    "Based on the correlation matrix, the only correlation is between `reporting_district` and `area_id`, as expected.\n",
    "\n",
    "Therefore, we know for missing numeric variables (`victim_age`, and `premise_code`) that there are no significant correlations between other variables to use for predictive imputation. Therefore, the best course of action for dealing with these missing variables would be to remove them or use mean/median/mode imputation). Additionally, it would be wise to view all of these variables, and remove those that we do not deem as important/significant to the grouping.\n",
    "\n",
    "For example, it would be smart to remove"
   ]
  },
  {
   "cell_type": "code",
   "execution_count": null,
   "id": "2e5237c1-c190-4b56-86f1-a25a8b2cc4bf",
   "metadata": {},
   "outputs": [],
   "source": []
  },
  {
   "cell_type": "code",
   "execution_count": null,
   "id": "d60985cf-8487-46b7-959a-47a9b6bbcb02",
   "metadata": {},
   "outputs": [],
   "source": []
  },
  {
   "cell_type": "code",
   "execution_count": 52,
   "id": "b7dc6653-2329-495c-9253-14202a611784",
   "metadata": {},
   "outputs": [
    {
     "data": {
      "text/plain": [
       "['mo_codes',\n",
       " 'victim_age',\n",
       " 'victim_sex',\n",
       " 'victim_descent',\n",
       " 'premise_code',\n",
       " 'premise_description',\n",
       " 'cross_street']"
      ]
     },
     "execution_count": 52,
     "metadata": {},
     "output_type": "execute_result"
    }
   ],
   "source": [
    "nan_columns = data.isna().any()\n",
    "cols_w_nan = data.columns[nan_columns].tolist()\n",
    "cols_w_nan"
   ]
  },
  {
   "cell_type": "markdown",
   "id": "5df67bc9-a71d-47f4-aa1a-6a8c723a37ae",
   "metadata": {},
   "source": [
    "570372 total observations and the above columns have NaN values that need to be adjusted/removed."
   ]
  }
 ],
 "metadata": {
  "kernelspec": {
   "display_name": "Python 3",
   "language": "python",
   "name": "python3"
  },
  "language_info": {
   "codemirror_mode": {
    "name": "ipython",
    "version": 3
   },
   "file_extension": ".py",
   "mimetype": "text/x-python",
   "name": "python",
   "nbconvert_exporter": "python",
   "pygments_lexer": "ipython3",
   "version": "3.8.3"
  }
 },
 "nbformat": 4,
 "nbformat_minor": 5
}
